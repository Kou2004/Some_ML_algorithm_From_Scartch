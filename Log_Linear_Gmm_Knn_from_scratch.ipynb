{
  "nbformat": 4,
  "nbformat_minor": 0,
  "metadata": {
    "colab": {
      "provenance": []
    },
    "kernelspec": {
      "name": "python3",
      "display_name": "Python 3"
    },
    "language_info": {
      "name": "python"
    }
  },
  "cells": [
    {
      "cell_type": "markdown",
      "source": [
        "# Logistic Regression"
      ],
      "metadata": {
        "id": "KtIUCzitQsEQ"
      }
    },
    {
      "cell_type": "code",
      "source": [
        "# we have to maximize the log liklihood\n",
        "import pandas as pd\n",
        "import numpy as np\n",
        "import matplotlib.pyplot as plt\n",
        "import seaborn as sns\n",
        "from sklearn.linear_model import LogisticRegression"
      ],
      "metadata": {
        "id": "HEOg41E_QrKw"
      },
      "execution_count": null,
      "outputs": []
    },
    {
      "cell_type": "code",
      "source": [
        "n_samples=20\n",
        "np.random.seed(0)\n",
        "X1 = np.random.normal(0, 1, n_samples)\n",
        "X2 = np.random.normal(0, 1, n_samples)"
      ],
      "metadata": {
        "id": "XNQHgyShHZA8"
      },
      "execution_count": null,
      "outputs": []
    },
    {
      "cell_type": "code",
      "source": [
        "df=pd.DataFrame()\n",
        "df['x1']=X1\n",
        "df['X2']=X2\n",
        "df['y']=[0]*10+[1]*10\n",
        "df=df.sample(frac=1)"
      ],
      "metadata": {
        "id": "9PPt21poIJmZ"
      },
      "execution_count": null,
      "outputs": []
    },
    {
      "cell_type": "code",
      "source": [
        "df.head()"
      ],
      "metadata": {
        "colab": {
          "base_uri": "https://localhost:8080/",
          "height": 206
        },
        "id": "gartsgRiIqIV",
        "outputId": "46a1ea5b-b4be-4bff-9bbc-defa1da424db"
      },
      "execution_count": null,
      "outputs": [
        {
          "output_type": "execute_result",
          "data": {
            "text/plain": [
              "          x1        X2  y\n",
              "17 -0.205158  1.202380  1\n",
              "5  -0.977278 -1.454366  0\n",
              "1   0.400157  0.653619  0\n",
              "2   0.978738  0.864436  0\n",
              "9   0.410599  1.469359  0"
            ],
            "text/html": [
              "\n",
              "  <div id=\"df-20c949b5-c737-4453-9222-6ac96cf7d0bb\" class=\"colab-df-container\">\n",
              "    <div>\n",
              "<style scoped>\n",
              "    .dataframe tbody tr th:only-of-type {\n",
              "        vertical-align: middle;\n",
              "    }\n",
              "\n",
              "    .dataframe tbody tr th {\n",
              "        vertical-align: top;\n",
              "    }\n",
              "\n",
              "    .dataframe thead th {\n",
              "        text-align: right;\n",
              "    }\n",
              "</style>\n",
              "<table border=\"1\" class=\"dataframe\">\n",
              "  <thead>\n",
              "    <tr style=\"text-align: right;\">\n",
              "      <th></th>\n",
              "      <th>x1</th>\n",
              "      <th>X2</th>\n",
              "      <th>y</th>\n",
              "    </tr>\n",
              "  </thead>\n",
              "  <tbody>\n",
              "    <tr>\n",
              "      <th>17</th>\n",
              "      <td>-0.205158</td>\n",
              "      <td>1.202380</td>\n",
              "      <td>1</td>\n",
              "    </tr>\n",
              "    <tr>\n",
              "      <th>5</th>\n",
              "      <td>-0.977278</td>\n",
              "      <td>-1.454366</td>\n",
              "      <td>0</td>\n",
              "    </tr>\n",
              "    <tr>\n",
              "      <th>1</th>\n",
              "      <td>0.400157</td>\n",
              "      <td>0.653619</td>\n",
              "      <td>0</td>\n",
              "    </tr>\n",
              "    <tr>\n",
              "      <th>2</th>\n",
              "      <td>0.978738</td>\n",
              "      <td>0.864436</td>\n",
              "      <td>0</td>\n",
              "    </tr>\n",
              "    <tr>\n",
              "      <th>9</th>\n",
              "      <td>0.410599</td>\n",
              "      <td>1.469359</td>\n",
              "      <td>0</td>\n",
              "    </tr>\n",
              "  </tbody>\n",
              "</table>\n",
              "</div>\n",
              "    <div class=\"colab-df-buttons\">\n",
              "\n",
              "  <div class=\"colab-df-container\">\n",
              "    <button class=\"colab-df-convert\" onclick=\"convertToInteractive('df-20c949b5-c737-4453-9222-6ac96cf7d0bb')\"\n",
              "            title=\"Convert this dataframe to an interactive table.\"\n",
              "            style=\"display:none;\">\n",
              "\n",
              "  <svg xmlns=\"http://www.w3.org/2000/svg\" height=\"24px\" viewBox=\"0 -960 960 960\">\n",
              "    <path d=\"M120-120v-720h720v720H120Zm60-500h600v-160H180v160Zm220 220h160v-160H400v160Zm0 220h160v-160H400v160ZM180-400h160v-160H180v160Zm440 0h160v-160H620v160ZM180-180h160v-160H180v160Zm440 0h160v-160H620v160Z\"/>\n",
              "  </svg>\n",
              "    </button>\n",
              "\n",
              "  <style>\n",
              "    .colab-df-container {\n",
              "      display:flex;\n",
              "      gap: 12px;\n",
              "    }\n",
              "\n",
              "    .colab-df-convert {\n",
              "      background-color: #E8F0FE;\n",
              "      border: none;\n",
              "      border-radius: 50%;\n",
              "      cursor: pointer;\n",
              "      display: none;\n",
              "      fill: #1967D2;\n",
              "      height: 32px;\n",
              "      padding: 0 0 0 0;\n",
              "      width: 32px;\n",
              "    }\n",
              "\n",
              "    .colab-df-convert:hover {\n",
              "      background-color: #E2EBFA;\n",
              "      box-shadow: 0px 1px 2px rgba(60, 64, 67, 0.3), 0px 1px 3px 1px rgba(60, 64, 67, 0.15);\n",
              "      fill: #174EA6;\n",
              "    }\n",
              "\n",
              "    .colab-df-buttons div {\n",
              "      margin-bottom: 4px;\n",
              "    }\n",
              "\n",
              "    [theme=dark] .colab-df-convert {\n",
              "      background-color: #3B4455;\n",
              "      fill: #D2E3FC;\n",
              "    }\n",
              "\n",
              "    [theme=dark] .colab-df-convert:hover {\n",
              "      background-color: #434B5C;\n",
              "      box-shadow: 0px 1px 3px 1px rgba(0, 0, 0, 0.15);\n",
              "      filter: drop-shadow(0px 1px 2px rgba(0, 0, 0, 0.3));\n",
              "      fill: #FFFFFF;\n",
              "    }\n",
              "  </style>\n",
              "\n",
              "    <script>\n",
              "      const buttonEl =\n",
              "        document.querySelector('#df-20c949b5-c737-4453-9222-6ac96cf7d0bb button.colab-df-convert');\n",
              "      buttonEl.style.display =\n",
              "        google.colab.kernel.accessAllowed ? 'block' : 'none';\n",
              "\n",
              "      async function convertToInteractive(key) {\n",
              "        const element = document.querySelector('#df-20c949b5-c737-4453-9222-6ac96cf7d0bb');\n",
              "        const dataTable =\n",
              "          await google.colab.kernel.invokeFunction('convertToInteractive',\n",
              "                                                    [key], {});\n",
              "        if (!dataTable) return;\n",
              "\n",
              "        const docLinkHtml = 'Like what you see? Visit the ' +\n",
              "          '<a target=\"_blank\" href=https://colab.research.google.com/notebooks/data_table.ipynb>data table notebook</a>'\n",
              "          + ' to learn more about interactive tables.';\n",
              "        element.innerHTML = '';\n",
              "        dataTable['output_type'] = 'display_data';\n",
              "        await google.colab.output.renderOutput(dataTable, element);\n",
              "        const docLink = document.createElement('div');\n",
              "        docLink.innerHTML = docLinkHtml;\n",
              "        element.appendChild(docLink);\n",
              "      }\n",
              "    </script>\n",
              "  </div>\n",
              "\n",
              "\n",
              "<div id=\"df-674e2b8e-f5ef-4b42-b460-735a1dd84f75\">\n",
              "  <button class=\"colab-df-quickchart\" onclick=\"quickchart('df-674e2b8e-f5ef-4b42-b460-735a1dd84f75')\"\n",
              "            title=\"Suggest charts\"\n",
              "            style=\"display:none;\">\n",
              "\n",
              "<svg xmlns=\"http://www.w3.org/2000/svg\" height=\"24px\"viewBox=\"0 0 24 24\"\n",
              "     width=\"24px\">\n",
              "    <g>\n",
              "        <path d=\"M19 3H5c-1.1 0-2 .9-2 2v14c0 1.1.9 2 2 2h14c1.1 0 2-.9 2-2V5c0-1.1-.9-2-2-2zM9 17H7v-7h2v7zm4 0h-2V7h2v10zm4 0h-2v-4h2v4z\"/>\n",
              "    </g>\n",
              "</svg>\n",
              "  </button>\n",
              "\n",
              "<style>\n",
              "  .colab-df-quickchart {\n",
              "      --bg-color: #E8F0FE;\n",
              "      --fill-color: #1967D2;\n",
              "      --hover-bg-color: #E2EBFA;\n",
              "      --hover-fill-color: #174EA6;\n",
              "      --disabled-fill-color: #AAA;\n",
              "      --disabled-bg-color: #DDD;\n",
              "  }\n",
              "\n",
              "  [theme=dark] .colab-df-quickchart {\n",
              "      --bg-color: #3B4455;\n",
              "      --fill-color: #D2E3FC;\n",
              "      --hover-bg-color: #434B5C;\n",
              "      --hover-fill-color: #FFFFFF;\n",
              "      --disabled-bg-color: #3B4455;\n",
              "      --disabled-fill-color: #666;\n",
              "  }\n",
              "\n",
              "  .colab-df-quickchart {\n",
              "    background-color: var(--bg-color);\n",
              "    border: none;\n",
              "    border-radius: 50%;\n",
              "    cursor: pointer;\n",
              "    display: none;\n",
              "    fill: var(--fill-color);\n",
              "    height: 32px;\n",
              "    padding: 0;\n",
              "    width: 32px;\n",
              "  }\n",
              "\n",
              "  .colab-df-quickchart:hover {\n",
              "    background-color: var(--hover-bg-color);\n",
              "    box-shadow: 0 1px 2px rgba(60, 64, 67, 0.3), 0 1px 3px 1px rgba(60, 64, 67, 0.15);\n",
              "    fill: var(--button-hover-fill-color);\n",
              "  }\n",
              "\n",
              "  .colab-df-quickchart-complete:disabled,\n",
              "  .colab-df-quickchart-complete:disabled:hover {\n",
              "    background-color: var(--disabled-bg-color);\n",
              "    fill: var(--disabled-fill-color);\n",
              "    box-shadow: none;\n",
              "  }\n",
              "\n",
              "  .colab-df-spinner {\n",
              "    border: 2px solid var(--fill-color);\n",
              "    border-color: transparent;\n",
              "    border-bottom-color: var(--fill-color);\n",
              "    animation:\n",
              "      spin 1s steps(1) infinite;\n",
              "  }\n",
              "\n",
              "  @keyframes spin {\n",
              "    0% {\n",
              "      border-color: transparent;\n",
              "      border-bottom-color: var(--fill-color);\n",
              "      border-left-color: var(--fill-color);\n",
              "    }\n",
              "    20% {\n",
              "      border-color: transparent;\n",
              "      border-left-color: var(--fill-color);\n",
              "      border-top-color: var(--fill-color);\n",
              "    }\n",
              "    30% {\n",
              "      border-color: transparent;\n",
              "      border-left-color: var(--fill-color);\n",
              "      border-top-color: var(--fill-color);\n",
              "      border-right-color: var(--fill-color);\n",
              "    }\n",
              "    40% {\n",
              "      border-color: transparent;\n",
              "      border-right-color: var(--fill-color);\n",
              "      border-top-color: var(--fill-color);\n",
              "    }\n",
              "    60% {\n",
              "      border-color: transparent;\n",
              "      border-right-color: var(--fill-color);\n",
              "    }\n",
              "    80% {\n",
              "      border-color: transparent;\n",
              "      border-right-color: var(--fill-color);\n",
              "      border-bottom-color: var(--fill-color);\n",
              "    }\n",
              "    90% {\n",
              "      border-color: transparent;\n",
              "      border-bottom-color: var(--fill-color);\n",
              "    }\n",
              "  }\n",
              "</style>\n",
              "\n",
              "  <script>\n",
              "    async function quickchart(key) {\n",
              "      const quickchartButtonEl =\n",
              "        document.querySelector('#' + key + ' button');\n",
              "      quickchartButtonEl.disabled = true;  // To prevent multiple clicks.\n",
              "      quickchartButtonEl.classList.add('colab-df-spinner');\n",
              "      try {\n",
              "        const charts = await google.colab.kernel.invokeFunction(\n",
              "            'suggestCharts', [key], {});\n",
              "      } catch (error) {\n",
              "        console.error('Error during call to suggestCharts:', error);\n",
              "      }\n",
              "      quickchartButtonEl.classList.remove('colab-df-spinner');\n",
              "      quickchartButtonEl.classList.add('colab-df-quickchart-complete');\n",
              "    }\n",
              "    (() => {\n",
              "      let quickchartButtonEl =\n",
              "        document.querySelector('#df-674e2b8e-f5ef-4b42-b460-735a1dd84f75 button');\n",
              "      quickchartButtonEl.style.display =\n",
              "        google.colab.kernel.accessAllowed ? 'block' : 'none';\n",
              "    })();\n",
              "  </script>\n",
              "</div>\n",
              "    </div>\n",
              "  </div>\n"
            ],
            "application/vnd.google.colaboratory.intrinsic+json": {
              "type": "dataframe",
              "variable_name": "df",
              "summary": "{\n  \"name\": \"df\",\n  \"rows\": 20,\n  \"fields\": [\n    {\n      \"column\": \"x1\",\n      \"properties\": {\n        \"dtype\": \"number\",\n        \"std\": 0.8722691485249854,\n        \"min\": -0.977277879876411,\n        \"max\": 2.240893199201458,\n        \"num_unique_values\": 20,\n        \"samples\": [\n          -0.20515826376580087,\n          0.7610377251469934,\n          1.8675579901499675\n        ],\n        \"semantic_type\": \"\",\n        \"description\": \"\"\n      }\n    },\n    {\n      \"column\": \"X2\",\n      \"properties\": {\n        \"dtype\": \"number\",\n        \"std\": 1.2186782902269129,\n        \"min\": -2.5529898158340787,\n        \"max\": 2.2697546239876076,\n        \"num_unique_values\": 20,\n        \"samples\": [\n          1.2023798487844113,\n          -0.8877857476301128,\n          2.2697546239876076\n        ],\n        \"semantic_type\": \"\",\n        \"description\": \"\"\n      }\n    },\n    {\n      \"column\": \"y\",\n      \"properties\": {\n        \"dtype\": \"number\",\n        \"std\": 0,\n        \"min\": 0,\n        \"max\": 1,\n        \"num_unique_values\": 2,\n        \"samples\": [\n          0,\n          1\n        ],\n        \"semantic_type\": \"\",\n        \"description\": \"\"\n      }\n    }\n  ]\n}"
            }
          },
          "metadata": {},
          "execution_count": 18
        }
      ]
    },
    {
      "cell_type": "code",
      "source": [
        "sns.scatterplot(x='x1', y='X2', hue='y', data=df, palette='viridis')\n",
        "plt.xlabel('X1')\n",
        "plt.ylabel('X2')\n",
        "plt.title('Scatter plot of X1 and X2 with hue as y')\n",
        "plt.show()"
      ],
      "metadata": {
        "colab": {
          "base_uri": "https://localhost:8080/",
          "height": 472
        },
        "id": "a7c1nfKdJUFY",
        "outputId": "8837afde-9120-4ef0-987d-fdfd5fdbbdee"
      },
      "execution_count": null,
      "outputs": [
        {
          "output_type": "display_data",
          "data": {
            "text/plain": [
              "<Figure size 640x480 with 1 Axes>"
            ],
            "image/png": "[encoded data removed]"
          },
          "metadata": {}
        }
      ]
    },
    {
      "cell_type": "code",
      "source": [
        "def gradient_log_likelihood(betas,df):\n",
        "  X = np.column_stack((np.ones(df.shape[0]), df.x1, df.X2))\n",
        "  a=np.exp((np.dot(X,betas)))\n",
        "  p=a/(1+a)\n",
        "  gradient=np.dot(X.T,(df.y-p))\n",
        "  return gradient"
      ],
      "metadata": {
        "id": "J79w1cEqJx9v"
      },
      "execution_count": null,
      "outputs": []
    },
    {
      "cell_type": "code",
      "source": [
        "betas=np.array([0.0,0.0,0.0])\n",
        "diff=np.inf\n",
        "lr=0.1\n",
        "while diff>0.001:\n",
        "  grad=gradient_log_likelihood(betas,df)\n",
        "  diff=abs(grad).sum()\n",
        "  print(diff)\n",
        "  betas+=lr*grad\n",
        "print(betas)"
      ],
      "metadata": {
        "colab": {
          "base_uri": "https://localhost:8080/"
        },
        "id": "3x7TNe5HNEPm",
        "outputId": "524ed625-bec1-4125-f369-dabb33846ede"
      },
      "execution_count": null,
      "outputs": [
        {
          "output_type": "stream",
          "name": "stdout",
          "text": [
            "3.0283838019474096\n",
            "1.5562297117843717\n",
            "1.0392494556120317\n",
            "0.7665572013459601\n",
            "0.5885362060720467\n",
            "0.46561042499622973\n",
            "0.3672321488478935\n",
            "0.2895817593963357\n",
            "0.2285232706633846\n",
            "0.18051850782943996\n",
            "0.14273555897656637\n",
            "0.11295624937034746\n",
            "0.08945335974692442\n",
            "0.07088197226923543\n",
            "0.05619265751489683\n",
            "0.04456438083238323\n",
            "0.035353132643195506\n",
            "0.02805259956436232\n",
            "0.022263947968910347\n",
            "0.017672501443093375\n",
            "0.014029655867842827\n",
            "0.011138796844740145\n",
            "0.008844293769211892\n",
            "0.007022872024920052\n",
            "0.0055768322924938385\n",
            "0.00442871047022228\n",
            "0.0035170650520574553\n",
            "0.0027931493995280166\n",
            "0.0022182801508931482\n",
            "0.001761754312827185\n",
            "0.0013991994761779203\n",
            "0.0011112663570146675\n",
            "0.0008825921669435299\n",
            "[ 0.2757773  -0.46803962 -0.17241756]\n"
          ]
        }
      ]
    },
    {
      "cell_type": "code",
      "source": [
        "def predict_probabilities(X_new, betas):\n",
        "    X_new = np.column_stack((np.ones(X_new.shape[0]), X_new))\n",
        "    linear_combination = np.dot(X_new, betas)\n",
        "    probabilities = 1 / (1 + np.exp(-linear_combination))\n",
        "    return probabilities"
      ],
      "metadata": {
        "id": "AE0VvTUQRDn0"
      },
      "execution_count": null,
      "outputs": []
    },
    {
      "cell_type": "code",
      "source": [
        "def plot_decision_boundary(df, betas):\n",
        "    x_min, x_max = df.x1.min() - 1, df.x1.max() + 1\n",
        "    y_min, y_max = df.X2.min() - 1, df.X2.max() + 1\n",
        "\n",
        "    # Calculate decision boundary line\n",
        "    x_values = np.linspace(x_min, x_max, 100)# news values are generated\n",
        "    y_values = - (betas[0] + betas[1] * x_values) / betas[2]\n",
        "\n",
        "    # Plot data points\n",
        "    plt.scatter(df.x1, df.X2, c=df.y, edgecolors='k', cmap=plt.cm.RdYlBu, marker='o')\n",
        "\n",
        "    # Plot decision boundary\n",
        "    plt.plot(x_values, y_values, label='Decision Boundary')\n",
        "\n",
        "    plt.xlim(x_min, x_max)\n",
        "    plt.ylim(y_min, y_max)\n",
        "    plt.xlabel('x1')\n",
        "    plt.ylabel('x2')\n",
        "    plt.title('Decision Boundary')\n",
        "    plt.legend()\n",
        "    plt.show()\n",
        "\n",
        "# Plot the decision boundary\n",
        "plot_decision_boundary(df, betas)"
      ],
      "metadata": {
        "colab": {
          "base_uri": "https://localhost:8080/",
          "height": 472
        },
        "id": "wcyw1AcgSavx",
        "outputId": "e75b43be-dcf9-4371-cb6e-16e085249f6e"
      },
      "execution_count": null,
      "outputs": [
        {
          "output_type": "display_data",
          "data": {
            "text/plain": [
              "<Figure size 640x480 with 1 Axes>"
            ],
            "image/png": "[encoded data removed]"
          },
          "metadata": {}
        }
      ]
    },
    {
      "cell_type": "markdown",
      "source": [
        "# Gaussian Mixture Model"
      ],
      "metadata": {
        "id": "GWzBrriXI2Y0"
      }
    },
    {
      "cell_type": "code",
      "source": [
        "import pandas as pd\n",
        "import numpy as np\n",
        "from scipy.stats import multivariate_normal"
      ],
      "metadata": {
        "id": "q8RCY4TeI9Mn"
      },
      "execution_count": null,
      "outputs": []
    },
    {
      "cell_type": "code",
      "source": [
        "class GMM:\n",
        "    def __init__(self, n_components, max_iter, comp_names=None):# k,n,labels\n",
        "        self.n_components = n_components\n",
        "        self.max_iter = max_iter\n",
        "        if comp_names is None:\n",
        "            self.comp_names = []\n",
        "            for i in range(self.n_components):\n",
        "                self.comp_names.append(f'comp{i}') #if labels are not provided then gives labels like comp0,comp1.....\n",
        "        else:\n",
        "            self.comp_names = comp_names\n",
        "        self.pi = []\n",
        "        for i in range(self.n_components):\n",
        "            self.pi.append(1 / self.n_components) # pik(initially equal gievn to each cluster)\n",
        "\n",
        "    def fit(self, X):\n",
        "        new_X = np.array_split(X, self.n_components) # split the dataset along row (k components)\n",
        "        self.mean_vector = []\n",
        "        for x_subset in new_X:\n",
        "            self.mean_vector.append(np.mean(x_subset, axis=0)) # (for each component column wise mean)\n",
        "        self.covariance_matrices = []\n",
        "        for x_subset in new_X:\n",
        "            self.covariance_matrices.append(np.cov(x_subset.T)) # (for each component column wise covariance)\n",
        "        del new_X # not need\n",
        "## E part\n",
        "        for iteration in range(self.max_iter):\n",
        "            self.r = np.zeros((len(X), self.n_components)) #responsibility or gamma(we have to minimize it)\n",
        "            for n in range(len(X)):\n",
        "                for k in range(self.n_components):\n",
        "                    self.r[n][k] = self.pi[k] * multivariate_normal.pdf(X[n], mean=self.mean_vector[k], cov=self.covariance_matrices[k], allow_singular=True)\n",
        "                    self.r[n][k] /= sum(self.pi[j] * multivariate_normal.pdf(X[n], mean=self.mean_vector[j], cov=self.covariance_matrices[j], allow_singular=True) for j in range(self.n_components))\n",
        "#for r matrix ,N is the column wise mean of the r\n",
        "            N = np.sum(self.r, axis=0)\n",
        "            ## M part\n",
        "            self.mean_vector = np.zeros((self.n_components, len(X[0])))\n",
        "            for k in range(self.n_components):\n",
        "                for n in range(len(X)):\n",
        "                    self.mean_vector[k] += self.r[n][k] * X[n]\n",
        "                self.mean_vector[k] /= N[k] # estimation of the mean of each component using r\n",
        "\n",
        "            self.covariance_matrices = []\n",
        "            for k in range(self.n_components):\n",
        "                self.covariance_matrices.append(np.cov(X.T, aweights=self.r[:, k], ddof=0))  #estimation of the covariance of each component using r\n",
        "\n",
        "            self.covariance_matrices = [1 / N[k] * self.covariance_matrices[k] for k in range(self.n_components)]\n",
        "\n",
        "            self.pi = [N[k] / len(X) for k in range(self.n_components)] # estimation of pi also\n",
        "            # again this will repeated using new mean, pi, cov to calculate the r again in the next iteration\n",
        "\n",
        "    def predict(self, X):\n",
        "        probas = []\n",
        "        for n in range(len(X)):\n",
        "            probas_per_point = []\n",
        "            for k in range(self.n_components):\n",
        "                probas_per_point.append(multivariate_normal.pdf(X[n], mean=self.mean_vector[k], cov=self.covariance_matrices[k]))\n",
        "            probas.append(probas_per_point)\n",
        "# for each observation point we get k probablities but the cluster with the highest probablity will be assigned to that point\n",
        "        cluster = []\n",
        "        for proba in probas:\n",
        "            cluster.append(self.comp_names[proba.index(max(proba))])\n",
        "        return cluster\n"
      ],
      "metadata": {
        "id": "tuqVwDu4M1t5"
      },
      "execution_count": null,
      "outputs": []
    },
    {
      "cell_type": "markdown",
      "source": [
        "![image.png](data:image/png;base64,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)\n",
        "![image.png](data:image/png;base64,iVBORw0KGgoAAAANSUhEUgAAAYsAAADfCAIAAACI6miJAAAgAElEQVR4AexdCUwVydZuIIAYt4lrxoUoYkAhohhRCSrGhYkoPscto87EBaOoUYEoSgQ16mhUJIoYFo0OOCJLHMCAYFiDgkGEqGBYw5rLFtbcrbnd/fN73jup13fxyuITqIrB6rq1nPqq6utTp5ZmBOooAhQBisCPigDzowpG5aIIUAQoAgJlKNoJKAIUgR8XAcpQP27bUMkoAhQBylC0D1AEKAI/LgKUoX7ctqGSUQQoApShaB+gCFAEflwEKEP9uG1DJaMIUAQoQ32/PsDzPMdxZHn4KJVKyXDqpwhQBAABylDfqScgGSmVSlWPCkpVKpUsywqCoOpRgec7SUOLoQgMEQQoQw16Q7EsK5PJBEFAkgJKQp6i3DTobUALGLIIUIYa9KaTyWTt7e2JiYkJCQnFxcVYXnNz88uXL1+8eBETE1NeXo7h1EMRoAggApShEIrB8iiVSolEEhAQMG7cuPnz50skEjBIdXd337hxY8GCBZcvX66uruZ5frAkoPlSBIYsApShBrHpOI4DSxPHcUVFRe7u7j///HNAQABO92pra8+fPw+zPP6/3SCKRbOmCAwdBChDDVZb8Tyv6lEplUpQjkJCQl69enXmzBlra2uJRAKslJCQ8PjxY7lcLggCxESaGiyxaL4UgSGFAGWoQWwutIV3d3f/+eefVVVV79+/nzJlyu3btwVBYFn25s2bWVlZgiDwPM+yLNITnfENYqvQrIcUAiOUocj9R3K5XKFQDEarqXpUsIpXXV3t7+8PvLNr1y4LC4umpia5XO7t7d3R0QFmKY7jKEMNRivQPIc0AiOOoWB6BZuSYHol2gcwgM3JcRwUkZOTc+3aNdCV8vPzJ0yYcO/evdLS0osXL2qkJ6pDDWAr0KyGNAIjjqF4nlcqlUAW0HIpKSkBAQGD1IoKhYLn+fDw8OTkZCiX47idO3euXr06ODg4KiqK++JI7Qn8gyQPzZYiMLQQGHEMBbYhqVT6zz//3Lp168yZMxMnTly2bBk024ArL0qlsnflzt/fv7KyEormeT49PX3SpEnLly//+PGjaHKHVDW0uhGVliIwSAiMOIYCRaa1tfXhw4dBQUGxsbHjx49fvXp1Z2cnqVgNCNwwoywqKjp69CiYxgVBgHmfq6vr1KlTW1pakJJEngERgGZCERjqCIw4hoITJ0hGnZ2dFhYWDg4OwFC4U2lA2lWpVD79+6mzs7Odnd3du3e7u7tRY0pNTQ0ICJBKpSJiwscBEYBmQhEY6giMRIbCqZxCoWhoaJg1a5azs/NgMBTqTTC/UyqVMpmM4zjQraRSqWiHAdITSjjUuxeVnyLQTwRGIkMBU8B0TyKRmJubu7i4DAZDARMhJWlsKpKVSL/GyDSQIjDSEBiJDEW2sUQimT59+iDpUJRxSKipnyLQBwQoQ1GG6kO3oUkoAt8JAcpQlKG+U1ejxVAE+oAAZSjKUH3oNjQJReA7IUAZagAYqqOjw83NbfHixTY2NlZWVkuWLFm2bJm9vb0d4RYRbjnhrK2t58+fv2DBAhsbm0WLFjk4OCxfvtzZ2fn9+/c8z4P9/jv1BVoMReDHQ4Ay1AAwVFdX1/bt2xmGMTU1ZRhm//79T/9+ev/+/XDCPSBcEOHOnj27b9++lStXWlpampmZMV+cgYHB+fPnobd0d3f/eN2GSkQR+E4IUIYaAIYSBEEikdjZ2RkZGY0ePXr58uXNzc1wIPnLqbv//wPreuqtChEg/NOnT5cuXVqxYgXDMFZWVlVVVdpSqedDQygCwxIBylADwFAwF0tOTp4wYQLDMAYGBu7u7nCpi+I/TvnFsV+cqkel6lEBban3qsbGxmvXrjEMc//+ffVfaQhFYEQhMBIZSqFQKJXK9vb26urq6OjoXi6YOnXq27dvS0tLOzo6+tb8sDnz0qVLME0zNjYOCgrSdoZGn31SoaGhGzduVD8W0zfxaCqKwBBFYMQxFM/zCoWi9944Pz8/Nze3TZs2ubi4bP7iNm7cePfuXW20oqOB8Wt3zc3NmzdvNjAwYBhm0qRJBQUFLMvK5XK4xw5z0IehBEG4fPnys2fPcIZIZ3wIIPWMHARGHEOJyAJaGu5IAd2qD22vUCjwaItEIrGxsYG53qpVq+rq6tRL1IehOI5raGjIzMyUy+X6xO+D2DQJReDHR6C/DDVEz7jCZws4jpNKpfA5Frh1U5ttSHdDYirItvfmqbFjxxobGxsYGHh7e+NNnpiJPoyDNwjDNQyYBDPR5oGY2n6l4RSBoYVA3xkKzuvDXxxFQ6vyImn1ZwFRQvKxu7ub53kPDw+GYYyNjUeNGgVfcwE9C4HqZ1l4WQIW3YfJKaYVeZRKJV7cjgeqQRPE5hYloY8UgUFCoI8MheMBPfDOByvPIMk62Nn2kzVI8drb211cXExMTBiGsbCwKCwsFAQBhj2WAh4ylT5+lmVhTtrV1YW3XMGlV/jlK33y0RhHXSQoCxYikV41pqWBFIHBQOCbGQr378AnAGDXD5pahuikD5BF7ugP0HgPenFx8ZQpU8Bq7uzs3NzcDGyOpajTgT7lwowSlg7hryhV/5sABWtvb8c3EMxVW1tbVT2q/hchkpk+UgS0IaAXQ5E98smTJ46OjtevX4fL2OCStpaWlkOHDvn6+g7pUxrIHdrA0iccDNsQ86+//powYcLo0aMNDAwuXrwIWMEI73NZ8PniU6dOXbhwoa2tTdWjCg8PP3Xq1NWrVz9+/AhfBtUhJ9mUGqPxPC+Xy2NjY11dXR0dHZcuXerh4VFbW5uTk7N+/fpVq1Zt377948ePkM9Xc9NYBA2kCOiPgF4MBdYHhUJRWVk5d+5cMzMzNzc30J5A//f29mYYZvLkySUlJX3utQqFoq6urlYPJ5FIamtrSVuyxgrjBXIaf+1DoEadRXc+7u7usEPKzMzsr7/+woGNeoru5Oq/VlRU+Pv7FxcXb9myZfPmzefOnUtMTHzz5o21tfXmzZs5jgNDmDYGhKYkS1ffzeDr67tq1ars7OzKykovLy/Y4G5lZRUREZGamjpmzBhnZ2eYY6qLR0MoAgOLwDcwlFKphA7KMMylS5fgda1QKORy+YYNGwwNDe3t7dva2vowjMHA8e7duy1btjjq4Zydnffu3VtXV6cbC57nUdHDmDh0SSaFQNEJFTImRoAlP8xNt4fn+YaGhkWLFgFJzZ07t7y8HK05pAC68yF/ffr307/++kvVo9q1axfDME+ePFEqlXFxcVOnTvX19cWt6ig8mRbUNzSHQUvB97Iwfmho6MyZM0FOQRASExNHjx7NMMyJEyegoQ0MDJYsWVJfX08PDJLYUv8gIaAXQ8HQVfWo4DSGmZlZRkaGqkelUChYli0tLf35558NDAxOnDjB83zflnvgTt7y8vJPeriSkpKKigrdBcEV4IAaUg/HcXDiBM+dYNVg1yV5KoWMib8CrQAR6Nkkubm5kyZNMjY2Zhhm8+bNjY2NSAd65kBGu3PnTllZmVQqtba23rFjB9BE79Hl4uJiwJBkQHUShBDYvQWfYhfF37dvX3BwMMdxMpmMZdkbN24wDGNmZpadna1UKm/evLlq1arIyEhMS8pG/RSBAUdAL4aCpSKO4w4ePGhoaGhjY1NXV8eyLLyTnz9/DotWERER6kNCH4nRHAurUTiAdXhIq7PGItLS0vz8/AICAq5fv36FcJcJh8EQduk/jojyX95z5869efNGY3HaAkFPuXXrlskXZ2BgEB4ejvXSlkpHeFtbm0KhePfunYGBwY0bNxA6WKwAwsX81ZuD5/nq6urdu3dv3LixtLRURE88z9fV1cHRHyCpgwcPjho1ysrKqrq6uru7G2fW6jnrkFnbTwOSibbMafjwQEBfhhIEoaamZu7cuWPGjNm2bRtM8aCHXb58mWGYiRMnvn//ngSFZdmCgoKioiKpVEqGfx9/Tk6On5/f9evXz58/T9LMf1jo//8nw5Gtrly5clWLu3DhQnp6On7BRZ+KgF4jl8v3799vbGxsY2OTm5sLDKJPcvU4oBsGBgYyDNNbR2gCjuNAnyXjQ9EwpwOihDeKXC4PDAycM2cOLNWpelQ4X4O3DmbS2Ni4aNEiQ0PDbdu24RollIjkAmYsIErcWI85gAdKh9VAcvuCDiYV5UAfRywCejEUzKfy8vLGjh3LMMzly5c5joMOJ5PJ1qxZY2Rk5ODg0NHRUVJSUl5ezvO8VCptaGj4448/xowZk5ubC1NCHT2S5/mamppLly556eE8PT2vXLnS1tamu9lwLkaWC1rGV3UNjTmr7w7XGA0DQa+B1TEfHx9TU9PXr1/jF6gwWh88v/3227Rp02pqaiAtbkPDdoF1DKQeiIbzYg8Pj927d0Mgx3HAGiCtXC7/8OED+LOysnpXIQ0MDAICAjiO6+zslMvlFRUV+fn5oHzh0iHLskBV+DlCslLAUPCJHQhHWxg2DRmf+ikCiIC+DIUmCYZhYmJiWJZFIxRcOeLp6SkIwsGDB729vWF3olwuT0lJsbOzg3EissiiBOAZcIYCtQKHEBaHQwK1APzpqx4wvqC556vxMcKjR49Gjx59//59VY+q//sqm5ubLSwstv5rKypQUBDWCPdeKRSK4uJi3AICDCWVSletWnXjxg1BEKRSKf4qCEJXV9eJEyfMzc1v3rwpCEJQUBDDMCYmJmlpaWjX27dv37Fjx5DsGhoagA0FQSgrKyNzw+qLWgEIC5kaWoSMTP0UAURAX4ZSKpVubm4Mw4waNSoxMRHUE5Zljx07ZmBgMHr06NjYWKlUumjRooyMDDjvxnGct7e3m5sbDmnY5IkvWxRikDxoo4EtEfD3P/c1/f//ZDjYyHVYymFMfpOFGDSFrKysyZMnw34o3AzV5yqzLPvu3bteZfbChQuQCRITjPzk5GRPT89jx46lpaXdvn07MjJy27ZtSUlJoMoJglBUVGRpaZmTk9PR0REZGXnu3LlTp05BVp8+fYKbQm/fvs1x3Lp160aPHj1p0iTY2yEIQmxsrKWlZVFREZBORkaGp6fn4cOH09LSAgMDHz58uGfPnpiYGFHtQPfkOC4/P9/BweHs2bOgavXnbSEqgj4OVwT0ZajGxsa5c+fCkX17e/v4+PikpKTt27dv3LjR1tbW2Nj4/Pnzhw4dcnd3B2OqUqmUSqWOjo7+/v48z1dWVubm5r5//x4tHd+zd8IYJskFtQ+c9OGplG+dymnsGbimWVhYOGfOnP379w9gfS9fvmxoaJiUlITC49pcZWXlgwcPsrOzp0yZ4uHh0dHRwbLsnj17QMMFCnv8+LG9vX1ubu69e/dqamquXbvm4eEBtWhoaFi8ePGcOXPi4+OPHDni5OTk7OzMMMzp06cTExO9vb1XrlyZkJAAkZuamgICAvLz8ydPnrxz587GxkZBEA4fPrxjxw7QqrDK+BgaGmpkZGRqagqbSzECkqxGMGngSEZAL4YSBCE1NXXcuHEMw2zfvv348eMuLi47duwIDAxUKBQ1NTXnzp379ddfz54929LSgjuni4qKFi1alJ+f/+rVq0ePHnl6ei5dulTjAdrBboC2tragoCBPT8/r168HBAS8ffsWJjhyuRw0o/T0dB8fn8DAwGvXrnl7e6ekpPRfpI6OjpaWFhsbm/Xr1/deRzVQo5Fl2cjISE9PT7BzI0mBJbu1tbWysjIhIcHa2rq8vBxq5+Tk5OPjw/M8LNIdOXJkypQprq6uJSUlgiCAyYllWalUqupRFRYWnjlzZvv27d7e3jU1Na2trQEBAe7u7tu3bz916hRcTAxM19ra+unTp+zs7JkzZ+bl5QFiGzZsOHz4sMjMB7ok3Cdz9+7d/fv3w4LDQGHS/8aiOfywCOjLUP7+/rBgl5mZCR0OqoSn88AWjpoIz/OPHj2aPXv2zZs3X7x4wbLshw8fYmJiwDyk2yY14GB1dHQkJCTcvHnTyMjIxMRkw4YNYPTFV/fr16/PnDljaGi4YMGC69evw3hT9aj6tnMaTc5r1661trbu6OiQyWQDOBrRBkTSExi8wcjl5eW1d+9egLGsrMza2jo+Ph7eHAqFYt26de7u7k//furq6pqeno4GO3KNEvaCiRoC0YAOAOZFPz+/DRs2gL+qqsrGxiY6Ohq3p4CEAAh2mJiYGFzQRFhEZdFHigAgoC9D7dq1C3aNV1RUwKsYFoDkcnl7ezuctIDuiMj6+vpOmTLFxcUlPDwcdCvouCJ6QprAhAPugSLq6uoOHDiwcuVKQ0PD3NxcfM+j2L2aQnFxMa5S9U0MsGQJguDh4TF37tzeQypgssGh2M/6Qj6w9RQkh7+wmgYs4+Li4ufnB9vfr127tnLlypaWlpiYmM7OzuLiYmtr648fP6p6VM7Ozv7+/oIg/PXXX1BZuVzOsiwwEWzHVyqVcrlcdHkWVAFWS7Zs2QJTSLCsL1++vKmp6fnz542NjeoIK5XKzs7OS5cuNTc3o0kOatQ3tGmqYY+AXgxVWVlpa2trZGS0ceNGcqSRI4QMh48IrF69GvYEODk5nThxQhCEyspK2Bsl2pk52CjDiHr06FFYWNitW7eMjIxAHrCPwPoaqFEaF8v1F0+hUIC+4O/vb2pqmpycDOMcFgcQIsiQHJnoB/rmOK6rqys3N/fx48do7ydTQXzMFrcjgSHc3Ny8d8Mq1Nrd3X3Hjh0xMTGPHj1SKpWBgYE2NjYNDQ290/N9+/a5u7tHRUWBbqt/NVHtqqysnD59+rNnz4DWT58+vXnz5pcvX964cQOUa6wX8vKTJ096zfPA4/Ar/qS/ADTmyEFAL4YqLi6eOHGigYHBw4cPsVfhwhy+KvEnGCczZ85MT0+Xy+UHDx50d3dXKBRXrlwBhvr+709Vj+rMmTNv3rwpLS2dPHnytGnTmpqacFu8IAjR0dG3b98ekIaPjIw0MzMLDg7WSE84IBEuRBJKByuPVCrduXPny5cvRSKRqUg/cmt1dXVISAgqrZ8+fbp3715cXBxsH8vKynr48CHkWVRUFBoampKSAosDuOQqKlH9EXdmNjY2BgYGQs6qHlVxcXFISEhkZGRTU5NINjgj2d7e/uDBA4lEggujiIZ6KTSEIiAIgl4MJZVK09LS4uPjRbqPNh1KEISYmJiFCxc2NTUJghAaGrpt27bAwECwPuDKDnbi79ASEonk4MGDra2tgiDA1zevXr0KOgjoUGfPnkXzbZ/lYVn25cuXZmZmPj4+UE1Uc7CyOCbJEEASy+3u7j5w4MDatWvJu1zgVzIV6UdUpV8cZgUe0Oy6urqA/lQ9KnKjP/IFWrhEyUWPaHxEEzhEwHxEtQYNSyaTdXR0gH4N8REKUf70kSKACOjFUBBb/dy8DoZqbW2FvXyQtra2ViKRwPCAENHoQoEGyZOfn+/p6QkjKjExkWEYR0dH+O6mVCptamry8fGpra1FTeSbxIBsWZb9/PnzzJkzDx06BCeNRQMVq6yOADKUQqEoLCxcu3Ytfi+PBA2GOuaj0QOmKFSIgAVkXxwyCy5owLZbtIv3mTJwcorbLEA2jTDCKwFA0xiBBlIEEIFvYChMgx6NI0QUiJG/vwclEQTh4RcHMrAsu3z5clNT04iICHjt5+TknDt3DozNEEIuP31VchjYDQ0NDg4OO3fu/Gp8MgJsAigvLy8oKAgODnZ1dR0zZgzDMLNmzYLdAGRkHX6QAf9i3YGVyEekOXzB4K868h/Yn6DEgc2T5jYsERi2DIXGHVBkzp079/r1a2hCjuNu377NMMzevXthZ2lERMTdu3dxOQyi4datrzY8z/Pt7e2bN282NTVds2bNwYMHt2/fvm/fvj179uzV5H4n3Nq1a5csWTJr1qzx48czDGNkZGRoaMgwzIEDB/Bc4VcFEEVAxkEQyBAdDNVnHUokwFcfKUN9FSIaARAYEQxVV1d3/PhxmNPBsld9ff20adPGjh0Lm5svX76cnJxMnpjr7Oxsb2/XX5Py9PQcNWoUXAJlbGwM19HAxXW6/8LRXIhjYmICj6ampk//fgrbSvvQU0k+AkWJDKEM1QdIaZL/FQLDmaHAJsJxXGZm5oULF9BaBEblc+fOGRoa+vn5tbe3nzx5srCwEG03giA8evRoxowZR44c0adh5HL5ixcvnj17FhkZ+fjx49jY2Li4uPj4ePDEqbnnhIuLi4uJiXn691P49+TLYjxcEQdy6iOAKA7JR5ShRODQx6GFQL8Y6sevKuy0DgsLCw4OBmmRhoqKiiZMmDBv3rz4+Phr166hvQaidXV12dvbBwYG4pn+71BZnJSJTOz9KZpkKzIfMpz0k3GonyLwP0dgODMUTOh4nr9y5UpqaiqoJLjcLpfLt23bZmRktGbNmps3b4pG6efPn83NzTMzM79nC1GG+p5o07KGBALDn6FqamrOnj1bXl6O3AQbmlU9qtjYWCMjozFjxmRmZooY6sGDB/b29rDzsK6urqKiQn+bVJ8bnjJUn6GjCYcrAsOWoXC7TWJi4oEDB6D9wBbe3d0Nc7329vZly5bNnj27paVFxFDu7u779u3r6uqKiIgIDQ11dHSMiYkZ7KUuEUOhDtifzieqF2ZFhpN+jEA9FIEfAYFhy1CCIDz9++nevXvNzMwYhtm3b19aWhouY8Gxm9553/nz53/77TdRS3R1da1YseLixYsxMTF5eXldXV2enp5FRUWDzVAoBuyBAOLAQOqhCIxABIYtQ6l6VK9evQoPD4fL9kJCQj59+oQMBYOf4ziJRFJWViY67fHhw4fp06dbWFicOXOmq6sLfhXt7R6MvtLd3Z2bmxsaGrpy5crnz5+T16EMRnE0T4rAj4/AsGUomCKBrgQUI1og06EQ3bt3z87O7v3792fPnt2wYUNbWxvca6xPc5Izpm9Vgtrb26Ojo5/+/XTatGmPHz/Ga1v0KZfGoQgMSwSGLUOBugRtxrKsUqkEyxTJIEABcKaMbN1jx47t3buXZdmkpKR58+Y1NjYmJSVlZ2eTcbT5yfy/laHg1qeamhpbW9u4uDhy8VFbcTScIjC8ERjODEW2nDpxiELIyLa2tjdu3IB7QR0dHW/fvn337t2uri5tjKNQKF69enX9+vWsrKyysrInT56EhobeuXMHrn+DnFu0uMbGxra2NrhDHfZeVVdXz5kzR/17BKSE1E8RGCEIUIb6N1OR7Z2amgpXRPZe1VJcXJyRkQFfptO4P1sQhJycnEePHvn6+lpbWwcEBHz+/Dk7O3v+/Pl5eXkwl4yNjSWO4v2Xd8+ePX/88QfYyGA2Wl1dbWFhAXfpklJRP0VgBCJAGUoDQ4n6ARizRHeNk/pUampqTU3N6dOnlyxZAkar8vLyuXPnZmRkwOyyo6OjUYuTSCRNTU1whxzQWV1dnaWlZVRUFGw+EAlDHykCIwoBylAaGAqX9oBfwOguur2PZCiWZTs6OpycnO7cuQNfT4mIiMAL/PAyJh0di1worK+vnzdv3tO/n8K1TVC6jrT0J4rAMEZgpDDUgDQhyUqiDD9+/Dh//vyMjAywvm/btu33339nWRamb9HR0e5a3NEvrrq6Grdo1dXVzZs379mzZ3ANnqgg+kgRGFEIUIb6hubWwVD379+3srKqr68XBAEW46Kjo5OSkp48eQKfC8/U4l5/cS0tLaAxqXpURUVFP/30U0hISO/d6gPyedFvqCGNShH4wRCgDDUADcKy7NWrV0+dOqVQKFQ9qo6ODh8fH19f30ePHsEWh6/O1GCWJ5FILl++fOjQoZUrV+7YsaP3y5rwdawBEJFmQREYmghQhhqAdgPdCveIQo7w7Tnww0dlUEsiPaIDyfgxQZgtkvapARCUZkERGGoIUIYa4BYjt6oDc+mYG5KncEi/PgkHWG6aHUXgh0SAMtQgNos+REPG0eYfRBFp1hSBHxsBylCD2D4k42grhoyjza8tLQ2nCAx7BChDDWITk4yjrRgyjja/trQ0nCIw7BGgDDUATUwyywBkR7OgCFAE/oMAZaj/INGP/ylD9QM8mpQioAsBylC60NHzN8pQegJFo1EEvhUBylDfipiG+JShNIBCgygCA4EAZagBQJEy1ACASLOgCGhCgDKUJlS+MYwy1DcCRqNTBPRFgDKUvkjpiDfgDEVuTNdRLv2JIjDsEaAMNQBNPOAM9dWTxgMgNM2CIjAUEKAMNQCtpCdDcRyXm5t77NixLVu2PHz4kOM4+RdXUVHh6enp7u5+/PjxrKwsOFc8AGLRLCgCQx8BylAD0Ib6MBRM3BQKRWpqau/HpmbPng2X2wmCIJVKs7Ky1q1bV1NTA7e10CsNBqBVaBbDAgHKUAPQjPozlFKpjIqKunv37vz580+fPq1UKuH68/T09IcPH6Io1A6FUFDPCEeAMtQAdAB9GEqpVAqC0N3d7efnV1VVdfbs2WnTppWXl8OlK9evX8/NzUViggwHQDKaBUVgiCNAGerfDQgMIrpPTs/G1Yeh4BPn9fX1Xl5ecC/wnDlzzpw5w3GcTCY7e/Zsc3MzFIc8pWfpNBpFYBgjQBnq343LcVyfrT96MpSqR/XmzZvAwEDgoBMnTpibm9fU1Hz+/PnChQvwgRlKT8N4sNGq9QEBylD/BVpTU9N/Pev3oCdDcRwXFhaWmpoqlUpZlq2qqpo8efKff/6ZmJj45MkT+NqVfgXSWBSBkYIAZah/t/THjx937dp18ODBPmhSejJU7xc6z58/X1paip3ryJEj1tbWXl5eb968wUDqoQhQBBCBEc1QLMu2tLR4e3vv3bt3586dhoaGq1atQmgG3NPU1HT79m1BEODr6qoeVUFBwYwZMxYvXtzW1jbgxdEMKQLDAIERzVAKhaKzszM/P18qlVZVVU2bNs3FxWWQLEF5eXkeHh7r16//8OEDkJRSqVT1qA4dOrRjx45h0JNoFSgCg4HAiGYoABRW8crKysaPH7958+ZBYqioqCg/Pz9/f//nz59DiRzH8fBjLDkAACAASURBVDz/4cOHd+/eDUbT0jwpAsMAgZHOUHgCrqqq6ueff/7ll18Gr1F77VDASsovDjQp2A8FexEGr2iaM0VgiCIw0hkKm+3z58/jxo1zdXUdJB0KC9L2XbzvUC4pA/VTBIYEApSh/t1MlKGGRH+lQo40BChDUYYaaX2e1ncoIUAZijLUUOqvVNZhjwCahqGmI52hcLNlP2d5qh4Vz/MymaysrKzoi8vPz3/9+nVBQUFeXl5OTs5bwuXl5cFT/hf37osrKCj49OnT58+fy8rKSktLS0pKiouLq6urYeFv2PdLWsGRgwBuilYqlQqFgmVZqVTK87xCoZDJZHA/Gg7MEc1QsLgG+yf7w1AKhQJO1UVHRzNfnLGxsYGBwezZs83NzWd/ceaEm0W4mTNnTp06dfz48WZmZpCWYRgjIyMDA4NRo0ZZWlo2NjaOnL5LazpcEWBZllwL4nkeXuqCIIAHI0A0ylD/3xMGiqGgV7Es29HRsWvXLoZhTExMpk2blpiY2NbW1tTUVFdX10K4ZsLBr+Xl5cXFxampqbGxsefOnXN2dmYYBkjq8ePHw7XX0nqNKATgCMepU6e2b9++Z8+e33//fe/evTt27Pjjjz/27t27f//+PXv23L17l2XZ3kuKKEP9f98YWIZSKpUcx5WUlMyePZthGGNj43Xr1nV0dOC7Arsj+TLBQEEQ5HI5PHZ1dWVnZ+/cuZNhmDVr1kCgtlRkDtRPEfgxEcDLY4uKirKzs4uKijIzMx88eODk5JSUlPT69ev09PTc3NyysjK85ANISt9ZHsdxUAbuMxQBARFwhin69cd/rKio+Omnn3799VcgGqVSKZfLRUY7fWrBcVxCQoKpqamhoSHDMEePHmVZVoctCd8VJF1CuTzP37t3b/r06bGxsdpg10ek/sRhvzie5+VyeUNDAzz2J8MhmlapVMKtzXgFBWy+xeYTBAF6jlwub2pqkkgk0KBDtL79Ebutra2qqgqut9bY8/Em/vfv3x87dgxezEBM6v1cX4ZCRUDbmxwHFRplMEl/ajvYaWUy2f3792/duuXi4mJqajpmzJiTJ09eunQpISGB4zhETX8xAG4fHx8DAwMjIyOGYZ49e6aOO2aIXVzEUDgbDw4OPnnyJGTbtwv2sKxv9UD1OY5rbGw8evRocnJyHyj7Wwv9AePzPK9UKq9evQozbjBcinbeYlcpLy/38PB49+6dxsH5A9ZuwEVqbm4+fPjwy5cvIWc4f0qWopuhRAyjF0NxHBcVFbV69WpHR8e1a9c6OzuvWbNm6dKlTv9xK1euXL16Nfxdt27d1n9traysJGX6Mf0cxymVyqd/P42IiIiJiUlISIiLi3vw4EFISEhOTk7fZAZ8u7u7HR0dDQ0NjYyMZs6cWVhYSI5tkpW0+aF0MB9euXIlNzf3m07GYLZ9qwWkwlF3/PhxPz8/fOxPnkM3bVtb27Zt2/755x+cKCDI0OiqHlVTU9POnTujoqKguTHm0K113yT/9OnT5s2b4cApmsAxK90MhdHAoy9DxcbGwrTFxMSEYZgDBw7cv38/kHBnzpxZvny5qakpwzCGhoavX7+G+21F5f2Aj6ArwRsPFBlQVfrWvWQyGcuyCoXi/fv3P//8MyzPrV27ViqVIkmRPVubH17UQApdXV0gnp6vZTLP/gAOi8Hh4eHbtm0DjVj0futP5v+rtKIqiB41StXd3Q1zuo8fP7q6un7+/BmaWB1nHx8fLy8vyFMul8OKlcY8h2sgWnuePHny66+/atT6B56hAM3Q0FBYER81apSTk1NHRwdaJfDtWlxcvGHDBiMjo+joaBjh6q3447dNP2UG1UypVIaEhABfGxoanjt3DiquUCi05a8tXAdi6jMOVY9KZCLBbHXko+2n5uZmOzu7lJQU6FXwF3avQBIUAB5hSwu8NvtTrjZ5vim8q6sLeyYmBKlAbBFQGIf0wEsLq3/o0CEvLy98n5F1zMrKsre3r6ysxECYHmJuQFjI9XiAnJwwYuTv7EErs+5ysWraokEEVY9KqVSuXbv23r176jEHnqHABMhx3NGjR0EpMDQ03LRpU0dHR+9XAABo1Djy8/MnT5589epVqDNWSZ+XlXpl/ichAyIzx3Hd3d2AmIGBwYQJE5KSkqA62vLXFq4RBNJMBgu0EA1f+GRu4NeYj+5AX19fV1dXqVSKQxRGNTQ6jnAYY6BZoP0RBdBdxOD9it9MRZF0lKWtf4oYKicnx8HB4cOHD+SKOKSFO1pFdAMkBfsSATSABZoP2ep/jhXP87CkI8IBBRN5dCAJP/E8HxkZuXTp0tbWVpw9wE8Dz1AKhQIstXK5fN26dQzDjBkzxsTE5PTp0xzHSaVSeKWAHHK53NXV1d3dHZeBsG5frdUPEgEFFrVWH8Srq6tbtmzZuHHjzMzM5s2bV1payrIsvMAHsBSRYKggIINAWaJoX33s6upycHAICgoiGUo02nEAi7AavNp9VWyIAIJhZHKQkLKRfoxMeiAfhFQqla5evfrs2bNkQp7nP336ZGtrm5KSQurIOBTJDLX5IUNtvw5qOPm2I8VA2oKxTKrn+shTUVExf/78uLg4kSaLxWlcyxPlrJcdStWjgqV3pVJZVVVlaWkJmpSJiUlkZCSZI9Dwn3/+uWfPHliiJgcJGXNg/aLh0c/Myc7Xn6xgVKSkpEyaNAkQ279/v0KhwO7en8zhXV3zxQHUdV8ctBTwCAl+HyDKyMiYNGnS+/fvYeMvqUYJgtDR0ZGdnR0XF/fmzRv8AkVSUtKTJ0/Ky8uhOFHX7Gd9vzU56PVtbW2ZmZnt7e3IWZ2EIyHSmL+IoWAmsXr1aogMTczz/M2bN62srDo7O1GHAo9UKhUEobGx8eXLl/Hx8e/fv+/q6hIEoaur658vrqOjA5uGZAeNwgxeIKggLS0tOTk57e3tWJBcLpf9x33ruJDL5Zs2bdq3bx/mBp4BZigQixxUb968mTZtGgy5yZMnZ2RkYKtgJ4YRAptH9LTviqqhZ2tBF4GRQCIIrQ5DV5Tz93yEhgeDlLGxsaGh4d27d+HV1Gcxurq6wB557969w4cPb9y4MSsrKy8vz8/Pz9vb28XFJTExESfdJCbqJSq+OBwhogiXLl2ytraGO9SxZaEn5Ofnb/3XVldX199++23s2LG2trZRUVF79uzZsGHDnj17Zs+eHRUVpWOPhaggjY/YgmQV0A9JyLc6/CTKqru728XFhWGY06dPA8/Cd56fPXs2duxYFxcXcp4lSouPJEkplcrIyMjp06cXFxfDHiiItnfv3s2bN8PYE0kSFRXl7Oy8a9euHTt2jB071tXV9enfT2HJe8WKFRYWFvn5+ZCJtoZASbR5+o8VzEbhRMSBAwfIWdGLFy/Gjx+/YsWKuro6FAAbQrfM/v7+9vb2QNxYR0RJIpE8e/asu7sbtitrzPPrOhQkIxmK47jIyMjx48czDGNqamptbV1SUoI9WOSBNXI97XBQh4KCgitXrty8efNPPVxcXByMBPi8OFYSSBNBIcMhEFkVf0IPVpZ8weKvmFwfD5yHlEql+/btA04fO3ZscnIyCqZPJmQcVARiY2Pv3LmjVCpdXFzMzc19fX2bmpoyMzNHjRp1+PBhrD6Krd6T8M0B1SRLAf+BAwecnZ1VPSrY4wYtKwhCbm6ura3trVu3INq1a9fgjM6WLVukUunt27dNTEzc3Nwwf/WcdYcgvULLks0BflDVgZ5g1ozVFOWcnZ09YcIEAwODq1evQloYDGvWrGEYxsbGhjTqi9LiI8lQgiCkpaVNmTLlxYsXyFAKhWLDhg1Hjx4FjQkVK6VSGR0dvWDBgn/++QdaxMPDA5abfHx8BEE4dOgQwzBHjhz5pq0kKJgolTpQ8BVI2JEEfrJLk/nAdz1++uknhmF8fX3JAbt582YDA4NZs2Y1NzdrpEIyH5E/NDR01qxZpFJGggnqJCQhBSP76jczFNRTJpP5+PjAzoOpU6fm5uZCdxHRE6g2YCYUia7tUSaTpaamHv7ijunhtDEUVhKaBwUjWxEDRR6YdePcW/QrPGL+2iqC4dAMpaWldnZ2MJKXLFlSW1uLEb7JA0oZz/O3bt3KycmRyWQLFiywsrJqaWmRyWTJycnu7u548XlXVxcOXXWBlUplR0cHlK6RpNatWwdfeUAEYOy5ubkdPHgQVJJew/z58+fhlA/obtOnTzcyMjpy5Aj0cpJuvqmmEJmUH/34E8hDvmzIInieDwwMhPfo8+fPce2/pqYGTiYdOHBAT4Yiiy4tLZ0yZUpwcDCeem1sbLS1tb106RJ0Nqgyx3HNzc0LFiwICwtD9W3Pnj2mpqYzZsyora19//49HOG8ffs2KPukrkFWRE8/Ckl69MRKEIQnT54YGBiMGTMmNjYWp+fNzc02NjYMw2zfvl0mkwHg2thEXc6EhIRx48ZJJBL8CWUD7RVWV5DT8VeM/80MBVNoVY+qsrLS0tJyypQpsHkUXmXYlaGG8Dc1NdXe3l6fK8CBX9XHEoqr7kHIyG6KkzulUllSUvKacG8IRwT/lzeHcP/1A/EAdg11ecgQHD9A33FxcQzDjB492tjY+MCBAx0dHRiBTKXbD524o6MjNjZWIpGUl5ebmZmdP38e3+eIHumBhhfl/Pbt240bN65YsaKwsBC0Fewf4HFwcNizZw+kgpYVBKGlpeXmzZtlZWVgEhYEYc+ePQYGBhYWFrBN9/nz5zdv3mxoaIA8ybexSABtj+3t7QUFBRkZGe/fv4cLatT/vn37NjMzs7i4WMdoUSgU+/fvNzExmTNnTklJiSAIMplMKpUmJCSMHj3a0NAwJCREI0MhdCChCJbGxsYZM2bcunULZiuqHlVFRcXs2bOvXbsGRz2QmnsPf/j7+4ORjud5qVS6dOlShmHWrVsH/ScmJiY4OBh3b/wPserdbnrkyBETE5NJkyZ9/vwZu9OrV6+mTJlibGx88+ZNUNmAhUlMtLWjIAipqaljxowh929jQlSHIbm2dvw6Q+GLAigA1vVKS0ttbGysra1zcnKAhnCJShCEa9eugeIKO4M4jtu/f/+hQ4dQFG1VgvjkWxfro80jUnQxZ5xi+Pv7ryPcesIRwf/lXUs4/GHt2rVr1qxx/o8rKCiAskS9GQWA8YmPoEhevXoV5nozZswgP+2J0b7Vc/fu3bFjx8bHx5NiQI9HbQvPJGMcYHCO4y5durR+/XogUOiUJM6LFy8+fPiwaOZCPgqC0NDQYGNjY2houGPHDiBc2KkIhaJNFISBIuRyObaOxvr2mtVcXFyWL18OBxVWanGLFi2C7w9qzEQQhPr6etBbN23aBL1U/sVdvHiRYZhx48aVlpaSNkGoGnZ4Egr0q3pU9fX1lpaWN27cANZmWba0tHTWrFkhISHYG0UVBGTy8vJMTU3NzMwuX76sUWYsRdR5NEaGwLy8vE2bNsFhj/8c8dD8/8WLF0VvcTJbqVTq5ORkYmKybt06NHTyPH/jxg1jY2MzM7NXr14JgkBqeaAEYcuSuYGf5/m0tLQxY8bU1NTgr1hH3R6MrxdDQZ+DXVGCIGRkZMydO9fW1rayshLn9mgfUfWoXF1dPTw8AA7QuZYtWxYUFAT7uHCcoBAiD8uycrkc1D8w5er4C2nVlRHsIuS0TsTTop/wkdQEIRDQJOUEGlX1qEg+JSOI/HgOeeXKlcbGxg8fPhRF6Nvj7t27f/755/LyclFyGJDkjl7R+xkQc3NzO3XqFJkWQeA4btmyZQcOHABTGrYmRIbdXoIgpKSkjB8/3sjICN6xkC3MLkXIgEiifMii0Q93Acrl8u7ubm1ND8txmESjJz09HQwrV69eBe4AxoRNxba2ti0tLZAQRM3Pz+/VI2Arn7bxIwhCVVXVzJkzAwICIC3P85WVlebm5oGBgTBSIDeWZfHlDerbo0ePTL64+Ph45DKUHHZvgU4HvRdGHIRgNHUP0K5UKgWP+l84kwBSkfUisyooKDA3NzcyMoIlBVhxFgRh67+2MgyzcOHCjx8/Ynye59++fXvy5MnLly/r+Bitqkf16tWrUaNG4VIvWbpuP5alF0Ph25Vl2cTERBMTk1WrVgGbwhjA4Qdm1EmTJvn7+8O7SBCEvLw8CwuLt2/fCoJQW1vb0NCAnRXlID2BgYErVqywt7dfpIe7cOECUB6sCJD5kB0FSYccgRgo8qjbodR5CvAli9PoRzoGvSY9PX3q1Kk3b96EbqcbB40ZkoESicTS0nL9+vVYCv7KsqxMJisuLgZiqqure/36dXl5OTwqlUqWZaurqy0tLaOjo1U9KolEUllZCYYGhGjTpk1ubm7AF1AEKF9JSUl37typrq4WBCE4OHj06NG4HxXUsbCwsMjISFi7gIl2W1sbz/MtLS3Z2dkVFRW6eUpEplgp9GDnhhD16kN4aGgoaKxQR1hZLisrMzc3h5NbgiCEhYUBXwiCIJFIQGXG/NU9giAUFhb+/PPP5D6bqqoqGxubs2fPouTQ9wRBiI6ODg8Pb21tFQRh3759BgYG5ubmMOthWbazs/Pu3buvX7+G3tvW1lZUVASGy4qKiry8PLi/UEc/AS6DCBqlRdB0W8ojIiLMzMwMDAzu37+PK2v19fXz589nGGbv3r2qHlXkFwcZ1tXVbdu2zcnJiXwLYlnoiY6OnjBhArKYuoTaQjAHvRgKe0B4ePiMGTO8vb1hMQXObaFGqupR5ebm2tvbGxgYhIeHw1tCoVAEBwcvXry4oaEhMTExPDzc1dUVzNsoBOkB821dXV1FRUWZHq6lpQUqSWYCrywd7SqKLHokUcOfQElELoPZuPqbEOODh1TuCgsLJ0+evHfvXkj11XejKCv1x+zs7J9++unMmTOinziOa2tri4yMPHbsmJub2+PHj8PCwuLi4nqnTnB+BRgqLi7O2tq6tLQ0Kyvr7t27v//++9GjR5GeOI47ePDg8uXLgWhgBiSXywsLC6dNm2ZkZHTlyhWO4+ASqzlz5nz+/Bk0SujWMIDb2toePXp07NixHTt2hISEPHz4MDY2du3atc+fP9fdOtDlyK0AZKNghyThBRDwp97X4f79+xmGGTt27IcPH2DmwrJsZGQk0FZ4eHhnZ+fKlSvhZAYkdHNzu3TpElmWSO/u3bGZmZk5ffp02GQDhbIs6+Tk9McffyBDQe0ePXo0atQohmFiYmIEQVi4cCEYodra2oDCkpKSpk+fDnbAlpaWwMBADw+PnTt3QpOFhoauWbOmqKhI1L7kI+wSgDOwZNuRfhRSVBd8FATh2LFjMPNNTU0FiwTLssnJyaNHj+5dBrly5Urv5GnVqlUwrQbhd+3adfz4cVIYePEgeoIgBAUFzZ49GxgKwrFQjKbRg9nqxVBQcFBQkIGBgaWlZVhYWHBw8I0bN0JCQoKCgoKDgwMDA319fX/99VdDQ0NTU9OxY8dC+0EH2rdv39Z/bU1KSoJ2unjxYkpKCkrQfw/ZKTE3qDZIDjYyuA4Z1s7JW34wCUiLnR6gxF9FHhJW0U/kI/RUhULR0tJibW29adMmGCow9siYffCHhYUZGxunpKSQrQ75FBQUREdH5+TkjBkz5u7duxC4ceNGoDMYSP7+/o6Ojs+fP4+Li5PL5VeuXLl16xZZrzt37pibm0skEoVCAS95VY/q5cuXoPZXVVX1UtvEiRMZhjE3N4deWFZWtn79eg8PD6j427dvnz17lp+fP378+ICAAJhkbdmyxdPTc0AQUAcNm6+zs9PW1tbAwMDU1DQ+Pr6zsxMmHXPnzjU0NDQxMfn06VNaWpqTkxMc3+N5vri4eMGCBS9fvgR8oF+JWFKpVN66dcvKygpnLtDH9u3bt2rVKrBOwGtMEIQrV64wDOPm5qZQKO7duwf7DDZt2iQIgkKhyMvLW7hw4Z07d+BUeVxcXEpKyqNHj0aPHg03gkmlUnt7+ydPnqBGpl5fDIGGQ2Ii21GbH96RPM93dnba29szDDNq1ChcPcjKyrKzszMzMxszZgysWjg4ODQ2NsLVaVVVVb2LyFFRUSAbWKPIfggGvsOHD69evRoaRZsYGsOxXvoyVEhIiIGBASyWwyUHeP8RhOMRWUNDw3HjxsF1X6oeVXd397Jly6ZMmfLHH3/AtV7YfihEPz06GAoqjzwFBcHuHuiF+NIDHRgiwOjSmC2KSsKKgeoesKYJguDo6GhjY4NKOyZXT6J/yN69e2fPnt3c3AzmD8yzd99zS0tLbW3t9evXFy9eDAtM1dXV9vb2f/31FzxKpVI3N7cJEyZs27bt06dPOLAxE57n3717N3369NTUVDSlC4LQ1ta2a9cuCwuLX3/9dcmSJUFBQb6+vpMnT7a1td2xY8fSpUsvX74M9h2O41pbW5ubm+/du7d8+XKY1MBR5PDwcMhTN8j6Q4Ex8b2Sl5cHHdXY2HjGjBm//fbbxo0bXVxcHj58eODAAWNj4yVLlqxbty4xMREAkcvlT548sbGxqa+vr6qqio6OvnbtGuyfIDFhWfbAgQPr1q2DToU/BQcHW1lZwQQWBq2qR1VWVrZs2bL58+cDf8XGxu7YsQMuX/3ll1+WL18eEhKCDFhbWyuTydzd3bf+ayvM3d6/f987i3/z5s2AowRwYbO+f/9+2rRphoaGxsbGEydO3L179+bNm52dnR8/fnzu3DljY2M7O7u1a9eCXgwK+IsXL+bNm1dZWVlXV9erll64cCEhIQEP8AJRtrW1rVmzBgxbCJSeHmxQfRmqvb3906dPlZWVtbW1NTU1jY2NDQ0NjY2NEomkqampvr6+urq6vLy8rKyssrIS3row1SooKLCyskpOTn7w4MHSpUuBubD4wfOQQEApMpmstrbWw8Nj6dKllpaWc+bMefbsGcANETo7O8+fPz//i7O1tV2yZAmszmgUUj1/jdGgs3p4eEyZMgVsjWCQwuQaU+kZ+Pbt2zdv3kBkzBDUfjACbty4EftHYmLivHnzampqYL7W2Ni4cOHC0NDQlJSUxYsXv3jxAhhElI+bm5uXlxfYGpDFFApFZmZmREREcXExzHYbGhqSk5OjoqLKyspw6RDqznGcm5sbaFWgxcyePTs/Px8XrfWsrP7R4AUTEBAANwg+efLk7du3Dx48ePnyJeyBkEqlVVVViYmJYA+C9393d/fx48d37dpVVFQUGBhYVla2du3aCxcuiJiotbV11apVDx48EIVXV1cvWLAAbisEAeBvd3f3ixcv4uLiqqqqlEplV1dXdXX18+fPk5OTYU8cGD3RXLB48eLr169DZYOCgpYsWdLV1aVjvUx/WNRj4gax8PBw2NEWFBRUWFj44MGDlJQUNOyWlZUlJycXFRWhzYtl2YsXL27evLmoqCg8PLy0tHTjxo3BwcFAeajHvX//fv78+dnZ2SKsyD6mzY/Sfp2hcI8SkD3KDVngBAofQdGFR47jQkJCFi1aBEeTrKyssrOz8/Pzs7KyUIJB8ohqDnKCdl1SUjJv3jyGYZydnaVSKRiVoT/J5fL09PQ5c+bcunWL3AirLiSZv/qvEAITuosXL06aNCkxMREWa0SasLa00Kg6foXlC+g0oh4A1NDU1AR6OJS474uTSCTw3s7JyTE3N4dFQDs7u0ePHtXU1ISHh5P14jguPDzcycmpqakJ8EH6UxcM+QvIETRlnudLS0sdHBxgSPd2g8OHD+//cjgxLCxskNQoqL67u7uJicn8+fNhxRnVENxSgPZTEFgmk7m6utrZ2Z08eRIuIWhra2tubhZhGxER4eTkBLowiRXP815eXlv/tRWWPqFdIALkAHlCoSzLgjkcuQxkLiwsnDdvXl5eniAI3d3d69evv3btWlVVFVh11THvfwgIcPbsWYZhpk6dCrf3QrbAX1gFmG3AOFIoFL/++quVldXx48clEgnHcR0dHXCDANITx3EXL150c3MTHfYQgabtEav2dYbCqH3z/Pbbb7///jsw1KZNm/z8/G7fvv3hw4e+5db/VBzHPf376eXLlx0dHRmGycjIgM4BXUomk5WUlPj5+cHprT4UB7nhAseDBw/GjRt3//59suXIVtFRBLwSeq3Rnz9/hqEiYjcyH9IPQy4xMdHc3BwUN6VSuWvXLnd39/v378MlMF5eXqtWrQJ73O7du48fP37r1i3cjA5SAaWuWrXq6d9P8f2JsxIoUZv80C9Zlk1JSZk1axZsAhQE4cAX16sdvHjxAmdk2jLpW7hMJuvq6lq+fDnshEYTiQg9rCMs+JSWltra2h46dOjMmTMnTpyor68nSwfzZa/xyMXF5caNG+RP6K+srHRycnr9+jW8PCCcbBcdfQD4PTg4eOHChUBeXV1d69evP3369P3790ENwYIGygNmwc7OTmdnZ1NTUycnJzR6aCsCiL6+vt7KysrDw8Pb29vT07OxsRHkh86v6lFJpVKJROLg4ABGUlGfITHRVhCGDzpDZWVlYe+sra1NSkpS37yD0nwHD8/z3t7eb968uX37Niyj4usOmufFixcBAQF9Zih4YQJDpaenjx49GrYa6+id2moNI6qzs9Pb25vcIEo2sEY/bHytrq5OTU2FcuFDQMnJyfBuYFn29evXsIQEq+ygxsMbFeWBx8zMTCcnJ9hbIFIoUDHBJOjBNzBMAKHvsizb3Nyck5NTVFQEkmP8gfWAbd7U1BQWodA+QsKFJUK7x8XFLVy4kOO4hoaGiRMnJiUltbW1paWlISYKhSI0NHTPnj0tLS04NcNMwHP//n2wi6PJnCxRmx+GN8/zvXd4vnv3DjfZ1dTUJCQkwPZ9UUED8gg7tt69ezd27FhDQ0Nvb++vZgsdu3eOb2Fh0dbWJpFIpk2bFhsbW1dXV1ZWBhWBv15fHJA1eSONCISvljjoDIW6NKoV8Ib/qmSDFEEmkx0+fLi9vb2urm7OnDnjxo1DhQ5G0c2bN/GsX39kKCkpmTp1Ku5c/VaGAh1E1aMKrWzy+wAAGQBJREFUCgo6cOAAjCId7yJRw8Mj9A84b0HWBUYdjFuSZXA0QmRc8QwMDPz9999h2qv7rB9ZikhFgipAcWg6IOMPoL+0tNTe3t7R0REu5IL9ehp1KCi0l5jc3d3Xrl0LW8NsbGyeP38eEhIC5ghou/T09F9++aVXxUZs1QXuXcA6d+4cnrzFxTKNrYOBOLBhSzMeJ1LPfzBC6uvrV6xYYWtrC7c16CgCz+V5e3s7ODjI5fKurq4VK1aEh4c/e/YsPj4e93k+fvx467+24jYoHf1WR3Hw0/dgKOjo//Nry6Ef5Ofnnzp1ChTpgwcPmpiYXLx4EegANvV7enoiZ30VPo0ReJ6vr6+3tbWF7+Xh+Q8kKeyaJDuIsgI96ObNm8bGxjjJ0rPHY1YkKcBkBzoZchNQEtzlIqIn8pAAx3EPHjyIj4+HyY4+8oMMkCdQPwgD7ycIQTkH1gMNDaox1hTAV5cca339+nX4lItUKo2IiPDz84OdnJCPIAgBAQGwNQmJmxQbA7u6uq5duwY6L1mcDj/kAy0OC82ADxAW6K1kWQPiRzO5/vvysDvduHEDDk7D/rILFy7AkihgVV9ff/369aamJuhXIK226n+1Lt+Dob4qxGBHgJeSqkclk8me/v30wYMHsDyfmZlpYmJiY2MDZK9UKktLS8+fP0+qe+r4apMWXhRw29+mTZsWL17c1NSE/ZtsIcwBA7EUfItGR0evWbPG0NDQ3t4ejJEiFQDTqnswfz09ZA5kEjJcm5+Mr+4HsuhbWvXc+hNCytCffDSmhcyBBGGJACZQuLZFlq7NrzHnwQsUiTF4BfUz5xHBULiUC5vo0tLSADVVj+qXX37p/WAUrDRxHJecnAxmIxJWeHUg15A/YT54AJXjuBMnTkybNu3ly5dKpbK1tRW2ZTQTroVwbW1t9fX1JSUlBQUFMTExf/755/bt2xctWgT7ng0MDM6ePYvvf3UzkKifwaO6hLpDyEzImGS4Nj8ZX5u/P2m15fmt4aQM35r2q/Ehc9SRSQ9Zrm7/V0sZ8AikPAOe+UBlOFIYCvilpaXFy8sLrgoETnn27BnDMCtXrgQaCggISEhIIMEtLi4uKiqCc1VkOOkH02bvenN3d/elS5eAXExMTODbXLDTxIBwhoTD/a6QCvbEQiB8YTQnJ4c06JC9SpuflE0fP5kPGZ8M1+Yn42vz9yettjy/NZyU4VvTfjU+ZE4SE/rJcnX7v1rKgEcg5RnwzAcqw5HCUKBv5+Tk+Pr6wj5vCJFIJAsXLpwwYUJubq5CoTh58iRpL+R5PiwsbOzYsefPn9dhM8KfPn/+7OTktHjxYltbWxsbGzs7u6VLly5evNjKymoh4ewIt3DhQltb2wULFsyfP3/RokWLFy+2t7dfsmSJjY2NpaXlwYMH0UYGTU72Km3+b+0cZD5kWjJcm5+Mr83fn7Ta8vzWcFKGb0371fiQObIS6SHL1e3/aikDHoGUZ8AzH6gMRwRDwfZljuMiIiKCgoKgYWD3piAIYI0+efJkaWmpl5eXyIgrlUptbW3j4uLAsoDGQrJ1Sb+EcA0NDRKJpPGLa/qPg0eIBX7YoF9fX4/xm5qaWlpa4GNfoj3oZFna/APVOWg++iNA20J/rL4p5ohgKDTfXLp0CRZowILb3d3Nsuznz58nTpxoaWl57YsTwdf7wfQFCxbAbXO46qFxTU2UcEAecW1e2wDQGD4gRdNMvgkBjQ2ByvU3ZUUjkwiMFIaC62tPnToF+0Vh3Q10q/b2dnd3d4ZhbG1tU1NTSXR69SwfHx/4mkBra2vRFwcrfeo9ktTtyQUdCMf48AgRMAncZgNqGml1QmEwuT4eTEU93w0Bbe3y3QQYrgWNCIaCiduHDx9wKx0wFDACz/NJSUkGBgazZ8/GK6Vxo+n69ev//PPPqqqqkJCQ+/fvW1hYvHz5UnSXgLbeqZFroCdBEuxVcP5AFF9btl8Nx2yp57shoK1RvpsAw7WgEcFQgiA0Nzdv377dxcUFd+iQx1bb29sdHBzgIhvkDpZly8vLFyxY4Ovr+/Tvp83NzZ2dneHh4Y2NjXB+EjUgbb2TDP/WDoQbJmErIJnVV/3fWhaNTxH4YREYEQx17NixxYsXm39xK1asgO8OdHd3o5VHEARQkUDbgnBVj+qff/6ZOnWqg4ODv78/+f0ooI+BZSjgHegoYOfq6OjIzMxsamr6KiWJIvywvY0KRhH4VgRGBEPhNXJwZRVghJuY4BwGnn6A1Towrnt5ef3yyy9wc5Cjo2NTU1Ov0aqhoQG5CTwigtD4qE/DgAxw8dvDhw+PHz8+efLk9PR0jRnqCNSnLBqHIjAkEBgRDIVLKngWAbUnMP3gaXI4GQP0JAjCL7/8cvLkSZ7nY2Njly5d2t7e/vjx48LCQjwrP7AMBRqcqkdVV1dXVFSUnZ1tZWX18uVLHWSk8ach0fOokBQBfRAYEQxFAgFDGogJT9gjhZExKysr7ezsoqKiOI579+6di4vLnTt3njx5AvfMk9TQezknmLdYlm1ra8MbrCsrK+GTk0h5kL9okogaGehQ+PWnoqIiS0vLzMxMsix9/GQtqJ8iMKQRGKEMpT7OyVYEwurq6qqrq8PjeHADDnANEhzkg2lrampu3779xx9/XL169dGjRw8ePLh8+fKOHTtg76VSqczKynr691Nt/+A6J5h1chxXUFAwZ86ctLQ0dWl1h6A81EMRGOoIUIb692DX0ZBgt8YJHahLQFXIUHC3yZMnT3Jzc/39/SdPngw3iH/48MHGxiYjI6P3RHF7e3t4eHjvtNFPiwsNDYV84KbawsLCuXPnUh1KR9PQn4Y9ApShNDAUmJngRgRY7Ie9ndAbcL2PVGSAtkpLS5ubm11cXE6cOAEJnz9/vmDBAlwHxCQ6Ohaa8N+/f29hYZGRkYGp9PToyJz+RBEYWgiMOIbSp3nQPoVbKFFv0picJI7a2loLC4t//vkHYvr4+KxevRqvbauvry8rKyvV4uBrXZBQLpfn5uZaWFi8evUKNojqlkGjYDSQIjDUEaAMpaEFkXH6wFCJiYkLFy6sra1lWba+vt7e3j4iIqK8vDw2NlahUJw5c2brv7Zu0eJ8fHxglxYI0NDQYGNjU1BQAB+kAd1Ng7g0iCIwfBGgDKWhbdUZSuNiH6bE+DzPHz9+fOPGjbCp6vPnzwsWLAgLC7t582ZJSclXKQa0JJ7nW1tbnz9/7u/vzzDM8ePH//nnH/jWy1dzQJGohyIwPBCgDKWhHZFxUIfSn6FSU1PT09NxPS49PT0qKgquRtCdCSQB61VnZ+eLFy9CQ0PDwsLCw8Pj4uIkEglE0CAuDaIIDF8EKEPp1bZfJReNuSDT9SE5mZb0ayyIBlIEhisClKH0atk+UIxe+WqPRLIS6deegv5CERiGCFCG+kEblWQl0v+DikvFoggMDgKUoQYH137nSrIS6e93xjQDisBQQoAy1FBqLSorRWCkIUAZaqS1OK0vRWAoIUAZaii1FpWVIjDSEKAMNdJanNaXIjCUEBjODIVXVioUCrxERdQ4crlcJpP1nkeRy+WwWxIioHFaFJ8+UgQoAt8TgeHMUCQxwcddSGQ5joNrVVQ9KrjzRBAEpVKpUCiQnr7/NihSQuqnCFAEhi1DwV26586dO3LkyMkvDo6ekE0eGhq6Z8+eixcvenp6enh4pKWl4S2XSFJkfOqnCFAEvjMCw5aheJ7v6up69epVQECAoaGhkZHR7t27SZ0ILrH08fExMzPbsmVLREREZWUlz/Pk7QJk/O/cMLQ4igBFQBCEYctQ2LqvXr3at2+flZXVtGnTPn78COEwxVMoFE1NTfv378eZHXlzJqhRmA/1UAQoAt8fgWHLUHALHcuy165de/Hixf79+42MjC5dugQQs1+cIAi9t4D7+fmpExOd5X3/vkhLpAioIzCcGUrVo2ppaTl8+HB9fX1GRoaBgcHSpUsbGhoEQQClSRCE69evw32YSEkijzpkNIQiQBH4bggMW4YCBMvLy48fP85xXFdXl4ODg4mJSXR0NMuysHgnl8tPnDhRWVkJ+wxE3ASP360laEEUAYqAOgLDnKGio6Pv3LkDXBMWFmZmZrZp0ybcW1BeXn7s2LHOzk7ABe+rk8lkcN0lhCBzqcNHQygCFIFBRWDYMhRcmHvlypWkpCTYQyCRSGbMmDFmzJjXr18LgsBxXFxc3NWrV0l88ePDYJkS2afImNRPEaAIfAcEhjNDKRSKY8eOVVVVIY5w8/fRo0dBS7py5crLly9ZloVv4QmCAOoVbkAndSjMhHooAhSB74bAsGUoQRBKS0tPnDjR3d2NXyjIz88fN27czJkzKyoqerc+eXl5VVRUANYcx0mlUj8/v7lz5z548ABISiaTUWvUd+uLtCCKgDoCw5aheJ6PjIy8ffu2aKa2d+9ehmEePHhQWVl55swZ+CgL7swsKioyNzd/+vdTQAo+7Ym/qsNHQygCFIFBRWDYMlQvMfn5+SUnJ4sYKj4+nmGYVatWPf376d27d0FXAkOVIAhJSUnm5uaoWEFa+inNQe2CNHOKgA4Ehi1Dtba2Hj9+vLq6WsRQLS0tS5cu/emnn9avX//q1SswqANP8Tx/7ty5tWvXwjHj+vr61tZWmOVRktLRh+hPFIHBQ2DYMlRhYaGfn19HRwfQDe4Y4Dju/v37JiYm1tbWnz9/Bu1J+cWxLLtmzZrTp0+3tbVFRETcuXNn3bp17969o5rU4PU/mjNFQDcCw4qhSIPRuXPnzp49izZykqEaGxunTZu2adMmWMLjOE7Vo1IoFNXV1XZ2dvfu3YuNjS344lxdXUELUygU5LoeWZBufOmvFAGKQH8QGFYMJZfL29raAgIC1q1bxzCMoaHhb7/9lpWVhfTE8zwYv48ePQr8RZJURkbGqFGjbG1t7927p+pRcRyHJ4rJHMDfH9BpWooARUBPBIYVQ8E+zOzs7OfPn+fk5GRmZqakpNTW1pL8Arg0Nja2trYiPYHnzz//dHZ2zsjI2L1797lz5yAmmZb064kvjUYRoAj0B4FhxVByuRws3zKZDEHRqPLg7A9JSqlUurq6enp6CoIQFhZmZ2fHcVxUVBSd5SGS1EMR+P4I6MVQMOxh7zWpR5B+uDDg+1cASwRhkHFI2Ug/xhet8VVXV8+aNevZs2dwGsbJySkyMjIkJEQul6t6VCJzO7VDkTBSP0Vg8BDQi6FgMR5u9dYhChhudEQY1J/6yVAtLS3R0dFtbW2CIKh6VAkJCdHR0dXV1RrpiTLUoDYlzZwigAjoxVAwaHHRHfUUkaerqwu2aGPu39PTT4YCUWUyGcuyUqkUHlmWVdeeoKDvWTVaFkVgxCKgL0MJglBUVHTw4EF7LW779u1wAg73Z38V075pItpS9YehgGrhYgNVj0qpVMJfciZIdxt8tUFpBIrAgCOgL0O9fv16/vz569ev/+OPP+bNm+fs7Pz7778vW7ZsxYoVu3bt2rlz59mzZ5ubm3HvNe7S1iYx3NLL83xxcfFferhHjx49fvw4NzdXG0MBm0BxMDUTqXjwCEQmojNkH/CA3oRUi5cfkGm11YuGUwQoAgOIgF4MVV9fv2PHjtjYWCjY19cXbn27fft2dnY2zuxYloXvzSmVSjCu6xAUlttUPaqHDx9u18Pt3r1767+2BgcH68hz8H7ieV403Ru8smjOFAGKACKgF0OlpaWlpqbCbqNXr14dP35cIpHI5XIPD483b94oFIru7m7Y4iiTybq7uxsaGjo7O5G5sDB1D8TRqOyIAuHznDoUKNChcKYGdAnHWci/8A0F+KseDtyqUChYlkXZ4A4WUnjdYpAxqZ8iQBHoDwJ6MRQUAMPS19f3xo0bgiBUV1dv2bKlqKgIiwe9KSkpafHixevWrcNZEkZQ98C8ST1cPQS1GPWfyJCQkJBdu3YdPXr0oBbnTjgyCgQfPHjQ3d39wIED8NfDw+PAF/f27VuyFOqnCFAEvg8CejEUqjNyuXzz5s2pqaksy2ZkZKxaterjx48cx8GUDe01u3fv9vDwECkaIjIC/gLNS5+qwoEVMG9pi89xXG5ubmRk5LNnz2LUXLQWBxFjv7iYmJjY2Ninfz999uzZ07+fxsXFRUVFxcXFdXd3aywUbOqgkeH15xpj0kCKAEWgDwjoxVCY7/Pnz5cvX15VVcVxXGJioqWlZWVlJexFwA+o1NfXL1y4MCYmBvZw4qIYZgIeZKigoCBHPdyqVatWrlwJN9KJssJH5MSvWsEwiUYP2Ptx3zlMb0UxcU1AEASlUgn01M9yRUXQR4oAReAbGErVo9q8efOuXbtAV4qPjx89enROTg6AKJVKwXCTmJg4c+ZMmP3V1NSUlJRIpVKwCqnDrepRNTU1vdLDpaSk5OTk1NbWqmdChsBiHLlLAHQ3WDpEZZD0kModcBy52wBIh+QjKA60OalUWlVVBX59ZrWkqNRPEaAIfBUBvRgK7MefP38eN27c/fv3QWlKTU1lGAYX12DHuVKpvHLlyooVK9ra2mJiYsLCwlauXHnt2jVBEMizciAWDnskER0eSPLVWSEylDpJkaxE+vvDUA8fPjQxMTl48CClp692NRqBItAHBPRiKNAsjhw5Mn78+JKSEhjSJSUlDMNs27YN7ldSKpWw5uXq6rpr166//vrrzZs38FHfV69egRUJCQgExUlZH+TWmERbhqBAwWQNaBH+ojyYkLRz4YZyjWWxLCuTyR4+fGhqanr48GHMQWNkGkgRoAj0DQG9GAqyTk5OfvbsmUKhkH9xCoUiPj4+Pz8fDDFwCVxTU5Odnd3s2bP37dsH31PBjZTkd337JmufUwF9dHR0dHZ24tc6SXmAQGGTl0Kh6OzsRP1OW6G4F+Ht27cww6UkpQ0rGk4R6DMCejEUqVmQJcFcCWZeMD7T09NtbW0LCgoiIyOtrKw+fvzI83xDQwOMZ3Wdhcxt8Pwcx5WUlGz919alS5eamZlNnDgxMTFRNA08evSojY3N5MmTZ82a5ejomJCQAMyrQyo09kMc0Kp0xKc/UQQoAt+KgF4MJVrMgo2OsFQHmoiqRwXr8QEBAU5OTkqlsrq62tzc/N27dzk5OfHx8dpmVd8qbt/ig96k6lHl5eXNnj2bYZjNmzejDgWyyeXyrKwsKyurpKQkKIXjOB0bCICRgZ1J41ffJKSpKAIUAY0I6MtQ6olBIRIdZNv6r60nTpwQBKG5uXnjxo2+vr53795taWn5386AZDIZUElQUNCNGzeWLVtmYGCQlpYGzAurdaoeVWFhoZeXF0k6/1ux1TGnIRSBkYbAADAUrospFIr8/Hy4lJJl2cbGxpycnJaWFphP/Q/3CgHRyOVyHx+f8vLyCxcujBo1ytPTE7QnFOzhw4chISG4L+F/NScdaV2Q1pcioAOBvjOUyI4D41x9SwFsTdAxXdIh3MD+VFFRcfz4calUWlxcPHbs2BkzZhQXF+MCn6pHdebMmfz8fHpCeGBhp7lRBPqDwIAxFOojYD+Gr6SAZKik9EfQ/qQFkV69euXr6wvfetm1axfDMEFBQcBHHMc1NTWdOHGipaUF7VOgQ/WnXJqWIkAR6CcC/WIokRpFTos0+vspaz+T37t37+HDh0CXcXFxBgYGjo6OXV1doPfl5uZevHgRbjUghe9noTQ5RYAi0B8ERgRDwXanU6dOwQeEBUGor693cHBgGCY6Ohp4NjQ0NCIiQp1z+wMuTUsRoAj0E4H+MhQWT+od2vwY+Tt7OI6rqKhwd3cnzWSBgYEMw2zYsEGhUIARCviLnl/5zq1Di6MI6EBgpDDUq1evfHx8BEGAWR7HcaWlpRYWFqNGjSoqKmpra/P09Kyvr+/s7NS2PVUHiPQnigBFYJAQGDCGGiT5+pMtqnKCINy+fRsuhMFAnue9vLyMjY39/f3T0tIuX74Mn3gBk39/yqVpKQIUgYFCYNgyFG5r4jiOZVlPT0+4EIZkqLy8vJ9++mnp0qVnz56NiYn5EbZEDFS70nwoAsMDgRHBUKWlpSdOnAAViWQoVY9q+/btY8eOnT9/fklJCVwLNTzaldaCIjA8EBgRDJWQkAB3VImW6gRBiI+PZxhmxYoVdXV12q7ZGx4tTWtBERiKCAxbhhIEQS6XS6XSnJycJUuWuLq6tra2QguBGgWb3bu7u62trY8ePSqVSuEre6JWJHUu0U/0kSJAERhsBIYtQ3Ec19bW9ttvvy1evHjp0qULFixYu3ZtSkoKqlF4ucrjx4+fPHkCd4Sqw00ZSh0TGkIR+G4IDFuGIo/a4B2bEIg6FHzhCrYgaLvGgDLUd+uLtCCKgDoCw5ahQFeCY3dATLgVExkK4VAPEf2kIwLGpB6KAEVgwBEYzgz1f+3UoQ0AAADCsP+/5oUJZD1BVOyIpVBHTFcEuoBCJSuFSkxGBN4CCpVEFSoxGRF4CyhUElWoxGRE4C2gUElUoRKTEYG3gEIlUYVKTEYE3gIKlUQVKjEZEXgLKFQSVajEZETgLaBQSVShEpMRgbeAQiVRhUpMRgTeAgqVRBUqMRkReAsMTy6F9m5ikUoAAAAASUVORK5CYII=)"
      ],
      "metadata": {
        "id": "GyFASZvtVusf"
      }
    },
    {
      "cell_type": "code",
      "source": [
        "from sklearn.datasets import load_iris\n",
        "from sklearn.model_selection import train_test_split\n",
        "iris = load_iris()\n",
        "X = iris.data\n",
        "y=iris.target\n",
        "n_components=3"
      ],
      "metadata": {
        "id": "PPfalZEkhv-P"
      },
      "execution_count": null,
      "outputs": []
    },
    {
      "cell_type": "code",
      "source": [
        "x_train,x_test,y_train,y_test=train_test_split(X,y,random_state=42)"
      ],
      "metadata": {
        "id": "v1fNxR8kEgJ3"
      },
      "execution_count": null,
      "outputs": []
    },
    {
      "cell_type": "code",
      "source": [
        "X[:5]"
      ],
      "metadata": {
        "colab": {
          "base_uri": "https://localhost:8080/"
        },
        "id": "BDDkh795DSge",
        "outputId": "b90355e6-cfc7-4293-9dc1-bf2c385d7e19"
      },
      "execution_count": null,
      "outputs": [
        {
          "output_type": "execute_result",
          "data": {
            "text/plain": [
              "array([[5.1, 3.5, 1.4, 0.2],\n",
              "       [4.9, 3. , 1.4, 0.2],\n",
              "       [4.7, 3.2, 1.3, 0.2],\n",
              "       [4.6, 3.1, 1.5, 0.2],\n",
              "       [5. , 3.6, 1.4, 0.2]])"
            ]
          },
          "metadata": {},
          "execution_count": 95
        }
      ]
    },
    {
      "cell_type": "code",
      "source": [
        "gmm=GMM(3,5,[0,1,2])"
      ],
      "metadata": {
        "id": "pRtkwjM8yHV7"
      },
      "execution_count": null,
      "outputs": []
    },
    {
      "cell_type": "code",
      "source": [
        "gmm.fit(x_train)"
      ],
      "metadata": {
        "id": "W9z9nX2SAWfg"
      },
      "execution_count": null,
      "outputs": []
    },
    {
      "cell_type": "code",
      "source": [
        "import matplotlib.pyplot as plt\n",
        "import seaborn as sns\n",
        "# Predict on the test data\n",
        "predicted_clusters = gmm.predict(x_test)\n",
        "\n",
        "# Convert predicted clusters to numeric labels for consistency\n",
        "unique_clusters = list(set(predicted_clusters))\n",
        "predicted_labels = [unique_clusters.index(cluster) for cluster in predicted_clusters]\n",
        "\n",
        "# Plot the scatter plot with true labels\n",
        "plt.figure(figsize=(12, 5))\n",
        "\n",
        "plt.subplot(1, 2, 1)\n",
        "sns.scatterplot(x=x_test[:, 0], y=x_test[:, 1], hue=y_test, palette='viridis', style=y_test, legend='full')\n",
        "plt.title(\"Scatter Plot with True Labels\")\n",
        "\n",
        "plt.subplot(1, 2, 2)\n",
        "sns.scatterplot(x=x_test[:, 0], y=x_test[:, 1], hue=predicted_labels, palette='viridis', style=predicted_labels, legend='full')\n",
        "plt.title(\"Scatter Plot with Predicted Labels\")\n",
        "\n",
        "plt.tight_layout()\n",
        "plt.show()"
      ],
      "metadata": {
        "colab": {
          "base_uri": "https://localhost:8080/",
          "height": 507
        },
        "id": "XSI4QTjBCD_3",
        "outputId": "a125b56a-2b16-418c-a4a8-73867d3396bf"
      },
      "execution_count": null,
      "outputs": [
        {
          "output_type": "display_data",
          "data": {
            "text/plain": [
              "<Figure size 1200x500 with 2 Axes>"
            ],
            "image/png": "[encoded data removed]"
          },
          "metadata": {}
        }
      ]
    },
    {
      "cell_type": "code",
      "source": [],
      "metadata": {
        "colab": {
          "base_uri": "https://localhost:8080/"
        },
        "id": "y4DyOEKXGj9I",
        "outputId": "779654dc-2e08-40ac-bdfe-0ff21a7480cc"
      },
      "execution_count": null,
      "outputs": [
        {
          "output_type": "execute_result",
          "data": {
            "text/plain": [
              "0.6578947368421053"
            ]
          },
          "metadata": {},
          "execution_count": 140
        }
      ]
    },
    {
      "cell_type": "markdown",
      "source": [
        "# Linear Regression\n",
        "**Gradient Decent**"
      ],
      "metadata": {
        "id": "-Rf5hB6p5Y-o"
      }
    },
    {
      "cell_type": "code",
      "source": [
        "class linear_regression:\n",
        "  def __init__(self,lr=0.01,epochs=10):\n",
        "    self.lr=lr\n",
        "    self.epochs=epochs\n",
        "  def fit(self,x,y):\n",
        "    self.n_obs,self.n_features=x.shape\n",
        "    self.w=np.zeros(x.shape[1])\n",
        "    self.b=0\n",
        "    self.x=x\n",
        "    self.y=y\n",
        "    for i in range(self.epochs):\n",
        "      self.update_weights()\n",
        "    return self\n",
        "  def update_weights(self):\n",
        "    self.y_predict=self.predict(x)\n",
        "    self.grad_w=-2*np.sum(np.dot(self.x.T,self.y-self.y_predict))/self.n_obs\n",
        "    self.grad_b=-2*np.sum(self.y-self.y_predict)/self.n_obs\n",
        "    self.w=self.w-self.lr*self.grad_w\n",
        "    self.b=self.b-self.lr*self.grad_b\n",
        "    return self\n",
        "  def predict(self,x_test):\n",
        "    self.y_predict=x_test.dot(self.w)+self.b\n",
        "    return self.y_predict\n"
      ],
      "metadata": {
        "id": "L137HaZj5o8I"
      },
      "execution_count": 2,
      "outputs": []
    },
    {
      "cell_type": "code",
      "source": [
        "x = np.array([[1], [2], [3], [4], [5]])\n",
        "y = np.array([2, 4, 5, 6, 7])\n",
        "y.T.shape"
      ],
      "metadata": {
        "colab": {
          "base_uri": "https://localhost:8080/"
        },
        "id": "Ymbc4Xgn_nxI",
        "outputId": "f42242f7-8f6d-469d-f923-658c37fdfc63"
      },
      "execution_count": 7,
      "outputs": [
        {
          "output_type": "execute_result",
          "data": {
            "text/plain": [
              "(5,)"
            ]
          },
          "metadata": {},
          "execution_count": 7
        }
      ]
    },
    {
      "cell_type": "code",
      "source": [
        "lrg=linear_regression(epochs=50)"
      ],
      "metadata": {
        "id": "1OBgPzP-_yt4"
      },
      "execution_count": 4,
      "outputs": []
    },
    {
      "cell_type": "code",
      "source": [
        "lrg.fit(x,y)"
      ],
      "metadata": {
        "colab": {
          "base_uri": "https://localhost:8080/"
        },
        "id": "03wh2jdmAMeU",
        "outputId": "2fc7c17e-c1fa-4dc1-c450-689d93555157"
      },
      "execution_count": 8,
      "outputs": [
        {
          "output_type": "execute_result",
          "data": {
            "text/plain": [
              "<__main__.linear_regression at 0x7c334cb073d0>"
            ]
          },
          "metadata": {},
          "execution_count": 8
        }
      ]
    },
    {
      "cell_type": "code",
      "source": [
        "lrg.w"
      ],
      "metadata": {
        "colab": {
          "base_uri": "https://localhost:8080/"
        },
        "id": "pXHIEnvXBW9M",
        "outputId": "a0466782-01fa-4f60-e3bd-bc6c6e375c1f"
      },
      "execution_count": 9,
      "outputs": [
        {
          "output_type": "execute_result",
          "data": {
            "text/plain": [
              "array([1.38842366])"
            ]
          },
          "metadata": {},
          "execution_count": 9
        }
      ]
    },
    {
      "cell_type": "markdown",
      "source": [
        "**OLS Method**"
      ],
      "metadata": {
        "id": "Zdt5-OiG_TKT"
      }
    },
    {
      "cell_type": "markdown",
      "source": [
        "*β=(X\n",
        "T\n",
        " X)\n",
        "−1\n",
        " X\n",
        "T\n",
        " y*"
      ],
      "metadata": {
        "id": "huZo9AjoBOHL"
      }
    },
    {
      "cell_type": "code",
      "source": [
        "import copy\n",
        "import numpy as np\n",
        "\n",
        "class LinearRegression:\n",
        "    def __init__(self):\n",
        "        pass\n",
        "\n",
        "    def fit(self, X, y):\n",
        "        self.X = X\n",
        "        self.y = y\n",
        "        X = copy.deepcopy(X)\n",
        "        dummy = np.ones((X.shape[0], 1))\n",
        "        X = np.concatenate((dummy, X), axis=1)\n",
        "        betas = np.linalg.inv(X.T.dot(X)).dot(X.T).dot(y)\n",
        "        self.b = betas[0]\n",
        "        self.w = betas[1:]\n",
        "        return self\n",
        "\n",
        "    def predict(self, X):\n",
        "        return X.dot(self.w) + self.b"
      ],
      "metadata": {
        "id": "tEcX0L08_YYc"
      },
      "execution_count": 10,
      "outputs": []
    },
    {
      "cell_type": "markdown",
      "source": [
        "# KNN"
      ],
      "metadata": {
        "id": "9p2YqlHfBgs2"
      }
    },
    {
      "cell_type": "code",
      "source": [
        "import numpy as np\n",
        "from scipy.stats import mode\n",
        "\n",
        "class KNN:\n",
        "    def __init__(self, n_neighbors):\n",
        "        self.n_neighbors = n_neighbors\n",
        "\n",
        "    def fit(self, x, y):\n",
        "        self.x = x\n",
        "        self.y = y\n",
        "        self.n_train = x.shape[0]\n",
        "        return self\n",
        "\n",
        "    def predict(self, x_test):\n",
        "        y_pred = np.zeros(x_test.shape[0])\n",
        "        for i in range(x_test.shape[0]):\n",
        "            p = x_test[i]\n",
        "            neighbors = self.find_neighbors(p)\n",
        "            y_pred[i] = mode(neighbors)[0]\n",
        "            #y_pred[i] = np.mean(neighbors) for regression\n",
        "        return y_pred\n",
        "\n",
        "    def find_neighbors(self, point):\n",
        "        distances = np.linalg.norm(self.x - point, axis=1)\n",
        "        sorted_indices = np.argsort(distances)\n",
        "        y_sorted = self.y[sorted_indices[:self.n_neighbors]]\n",
        "        return y_sorted\n",
        "\n"
      ],
      "metadata": {
        "id": "9F9z4akABlSU"
      },
      "execution_count": 19,
      "outputs": []
    },
    {
      "cell_type": "code",
      "source": [
        "# Example usage:\n",
        "X_train = np.array([[1, 2], [2, 3], [3, 4], [4, 5]])\n",
        "y_train = np.array([0, 1, 1, 0])\n",
        "X_test = np.array([[2, 2], [3, 3]])\n",
        "\n",
        "knn = KNN(n_neighbors=2)\n",
        "knn.fit(X_train, y_train)\n",
        "predictions = knn.predict(X_test)\n",
        "print(\"Predictions:\", predictions)"
      ],
      "metadata": {
        "colab": {
          "base_uri": "https://localhost:8080/"
        },
        "id": "Yk7NEfiuOu_A",
        "outputId": "195dc7a7-a69e-4aa3-ebb8-1518335fee82"
      },
      "execution_count": 20,
      "outputs": [
        {
          "output_type": "stream",
          "name": "stdout",
          "text": [
            "Predictions: [0. 1.]\n"
          ]
        }
      ]
    }
  ]
}